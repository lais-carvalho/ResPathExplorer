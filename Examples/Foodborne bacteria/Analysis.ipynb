{
 "cells": [
  {
   "attachments": {},
   "cell_type": "markdown",
   "id": "c0153249",
   "metadata": {},
   "source": [
    "# Foodborne example\n",
    "\n",
    "Transcriptome Analysis of *Listeria monocytogenes* Exposed to Beef Fat Reveals Antimicrobial and Pathogenicity Attenuation Mechanisms\n",
    "\n",
    "**doi**: https://doi.org/10.1128/AEM.03027-20\n",
    "\n",
    "Ref: Chen YY, Kommadath A, Vahmani P, Visvalingam J, Dugan MER, Yang X. 2021. Transcriptome Analysis of Listeria monocytogenes Exposed to Beef Fat Reveals Antimicrobial and Pathogenicity Attenuation Mechanisms. Appl Environ Microbiol 87:e03027-20.\n",
    "https://doi.org/10.1128/AEM.03027-20\n",
    "\n",
    "- The example was done just for C18:2n-6\n",
    "\n",
    "Obj: functional enrichment analysis"
   ]
  },
  {
   "cell_type": "code",
   "execution_count": 68,
   "id": "4a84e971",
   "metadata": {},
   "outputs": [
    {
     "data": {
      "text/plain": [
       "['CARDAnalysis.py',\n",
       " 'KeggAnalysis.py',\n",
       " 'mapper_KeggFunctions.py',\n",
       " 'rename_file.py',\n",
       " 'save_df_as_html.py',\n",
       " 'URL_pathway.py',\n",
       " 'validate_color_code.py',\n",
       " 'VFDBAnalysis.py',\n",
       " '__init__.py',\n",
       " '__pycache__']"
      ]
     },
     "execution_count": 68,
     "metadata": {},
     "output_type": "execute_result"
    }
   ],
   "source": [
    "import os\n",
    "os.listdir(r'D:\\Programas\\Lib\\site-packages\\ResPathExplorer')"
   ]
  },
  {
   "cell_type": "markdown",
   "id": "6352a07f",
   "metadata": {},
   "source": [
    "## Upregulated genes"
   ]
  },
  {
   "cell_type": "markdown",
   "id": "3085699c",
   "metadata": {},
   "source": [
    "### KeggAnalysis"
   ]
  },
  {
   "cell_type": "code",
   "execution_count": 69,
   "id": "30fbae48",
   "metadata": {},
   "outputs": [],
   "source": [
    "from ResPathExplorer.KeggAnalysis import KeggAnalysis\n",
    "organism = \"Listeria monocytogenes EGD-e (serotype 1/2a)\" #organism name\n",
    "GMT_file = \"exemple_fb.gmt\" #GMT file name\n",
    "example_01 = KeggAnalysis(organism_name = organism, file_name_gmt= GMT_file, use_existing_gmt = True)"
   ]
  },
  {
   "cell_type": "code",
   "execution_count": 70,
   "id": "0e5afce1",
   "metadata": {},
   "outputs": [
    {
     "name": "stdout",
     "output_type": "stream",
     "text": [
      "lmo\n",
      "Listeria monocytogenes EGD-e (serotype 1/2a)\n"
     ]
    }
   ],
   "source": [
    "print(example_01.org)\n",
    "print(example_01.organism)"
   ]
  },
  {
   "cell_type": "code",
   "execution_count": 71,
   "id": "55bd0a5d",
   "metadata": {},
   "outputs": [
    {
     "data": {
      "text/plain": [
       "773"
      ]
     },
     "execution_count": 71,
     "metadata": {},
     "output_type": "execute_result"
    }
   ],
   "source": [
    "with open('upregulated.txt', 'r') as file:\n",
    "    upregulated = [line.strip() for line in file if line.strip()]\n",
    "len(upregulated)"
   ]
  },
  {
   "cell_type": "code",
   "execution_count": 72,
   "id": "e7ddfc9c",
   "metadata": {},
   "outputs": [
    {
     "data": {
      "text/plain": [
       "2763"
      ]
     },
     "execution_count": 72,
     "metadata": {},
     "output_type": "execute_result"
    }
   ],
   "source": [
    "with open('background.txt', 'r') as file:\n",
    "    background = [line.strip() for line in file if line.strip()]\n",
    "len(background)"
   ]
  },
  {
   "cell_type": "code",
   "execution_count": 73,
   "id": "9f51475d",
   "metadata": {},
   "outputs": [
    {
     "name": "stdout",
     "output_type": "stream",
     "text": [
      "✅ File renamed to: enrichment_exampleup.txt\n",
      "✅ File renamed to: enrichment_exampleup.pdf\n"
     ]
    }
   ],
   "source": [
    "example_01.enrichment_analysis(gene_list = upregulated,\n",
    "            cutoff = 0.05,\n",
    "            name_outdir = \"enrichment_exampleup\",\n",
    "            number_path = 10,\n",
    "            name_results_file = \"enrichment_exampleup\",\n",
    "            genes_background = background)"
   ]
  },
  {
   "cell_type": "code",
   "execution_count": 74,
   "id": "04b242f8",
   "metadata": {},
   "outputs": [
    {
     "data": {
      "text/html": [
       "<div>\n",
       "<style scoped>\n",
       "    .dataframe tbody tr th:only-of-type {\n",
       "        vertical-align: middle;\n",
       "    }\n",
       "\n",
       "    .dataframe tbody tr th {\n",
       "        vertical-align: top;\n",
       "    }\n",
       "\n",
       "    .dataframe thead th {\n",
       "        text-align: right;\n",
       "    }\n",
       "</style>\n",
       "<table border=\"1\" class=\"dataframe\">\n",
       "  <thead>\n",
       "    <tr style=\"text-align: right;\">\n",
       "      <th></th>\n",
       "      <th>Gene_set</th>\n",
       "      <th>Term</th>\n",
       "      <th>Overlap</th>\n",
       "      <th>P-value</th>\n",
       "      <th>Adjusted P-value</th>\n",
       "      <th>Odds Ratio</th>\n",
       "      <th>Combined Score</th>\n",
       "      <th>Genes</th>\n",
       "      <th>Pathway name</th>\n",
       "    </tr>\n",
       "  </thead>\n",
       "  <tbody>\n",
       "    <tr>\n",
       "      <th>6</th>\n",
       "      <td>exemple_fb.gmt</td>\n",
       "      <td>lmo00061</td>\n",
       "      <td>9/13</td>\n",
       "      <td>2.283485e-03</td>\n",
       "      <td>2.562578e-02</td>\n",
       "      <td>5.499451</td>\n",
       "      <td>33.447951</td>\n",
       "      <td>lmo0814;lmo0970;lmo1357;lmo2524;lmo1356;lmo220...</td>\n",
       "      <td>Fatty acid biosynthesis</td>\n",
       "    </tr>\n",
       "    <tr>\n",
       "      <th>18</th>\n",
       "      <td>exemple_fb.gmt</td>\n",
       "      <td>lmo00290</td>\n",
       "      <td>8/10</td>\n",
       "      <td>9.222081e-04</td>\n",
       "      <td>1.552384e-02</td>\n",
       "      <td>8.854306</td>\n",
       "      <td>61.880442</td>\n",
       "      <td>lmo1991;lmo1989;lmo1986;lmo1990;lmo1983;lmo198...</td>\n",
       "      <td>Valine, leucine and isoleucine biosynthesis</td>\n",
       "    </tr>\n",
       "    <tr>\n",
       "      <th>23</th>\n",
       "      <td>exemple_fb.gmt</td>\n",
       "      <td>lmo00340</td>\n",
       "      <td>10/11</td>\n",
       "      <td>2.277383e-05</td>\n",
       "      <td>7.667190e-04</td>\n",
       "      <td>18.286750</td>\n",
       "      <td>195.483501</td>\n",
       "      <td>lmo0564;lmo0565;lmo0568;lmo0561;lmo0562;lmo056...</td>\n",
       "      <td>Histidine metabolism</td>\n",
       "    </tr>\n",
       "    <tr>\n",
       "      <th>36</th>\n",
       "      <td>exemple_fb.gmt</td>\n",
       "      <td>lmo00523</td>\n",
       "      <td>4/4</td>\n",
       "      <td>6.048727e-03</td>\n",
       "      <td>4.699395e-02</td>\n",
       "      <td>23.338784</td>\n",
       "      <td>119.212347</td>\n",
       "      <td>lmo1081;lmo1082;lmo1083;lmo1084</td>\n",
       "      <td>Polyketide sugar unit biosynthesis</td>\n",
       "    </tr>\n",
       "    <tr>\n",
       "      <th>38</th>\n",
       "      <td>exemple_fb.gmt</td>\n",
       "      <td>lmo00541</td>\n",
       "      <td>6/6</td>\n",
       "      <td>4.677771e-04</td>\n",
       "      <td>1.181137e-02</td>\n",
       "      <td>33.800000</td>\n",
       "      <td>259.162129</td>\n",
       "      <td>lmo2537;lmo1084;lmo1081;lmo1082;lmo1083;lmo1078</td>\n",
       "      <td>Biosynthesis of various nucleotide sugars</td>\n",
       "    </tr>\n",
       "    <tr>\n",
       "      <th>42</th>\n",
       "      <td>exemple_fb.gmt</td>\n",
       "      <td>lmo00552</td>\n",
       "      <td>11/19</td>\n",
       "      <td>5.708086e-03</td>\n",
       "      <td>4.699395e-02</td>\n",
       "      <td>3.526577</td>\n",
       "      <td>18.217846</td>\n",
       "      <td>lmo0644;lmo2521;lmo0972;lmo0971;lmo1077;lmo255...</td>\n",
       "      <td>Teichoic acid biosynthesis</td>\n",
       "    </tr>\n",
       "    <tr>\n",
       "      <th>64</th>\n",
       "      <td>exemple_fb.gmt</td>\n",
       "      <td>lmo00900</td>\n",
       "      <td>12/18</td>\n",
       "      <td>6.782402e-04</td>\n",
       "      <td>1.370045e-02</td>\n",
       "      <td>5.024404</td>\n",
       "      <td>36.658096</td>\n",
       "      <td>lmo0236;lmo1363;lmo1365;lmo1315;lmo1317;lmo019...</td>\n",
       "      <td>Terpenoid backbone biosynthesis</td>\n",
       "    </tr>\n",
       "    <tr>\n",
       "      <th>67</th>\n",
       "      <td>exemple_fb.gmt</td>\n",
       "      <td>lmo00970</td>\n",
       "      <td>68/80</td>\n",
       "      <td>3.911943e-27</td>\n",
       "      <td>3.951062e-25</td>\n",
       "      <td>15.415189</td>\n",
       "      <td>937.332344</td>\n",
       "      <td>lmo1598;lmot43;lmo1520;lmot58;lmo1755;lmot21;l...</td>\n",
       "      <td>Aminoacyl-tRNA biosynthesis</td>\n",
       "    </tr>\n",
       "    <tr>\n",
       "      <th>74</th>\n",
       "      <td>exemple_fb.gmt</td>\n",
       "      <td>lmo01212</td>\n",
       "      <td>9/14</td>\n",
       "      <td>4.821294e-03</td>\n",
       "      <td>4.426825e-02</td>\n",
       "      <td>4.497277</td>\n",
       "      <td>23.991681</td>\n",
       "      <td>lmo0814;lmo0970;lmo1357;lmo2524;lmo1356;lmo220...</td>\n",
       "      <td>Fatty acid metabolism</td>\n",
       "    </tr>\n",
       "    <tr>\n",
       "      <th>77</th>\n",
       "      <td>exemple_fb.gmt</td>\n",
       "      <td>lmo01232</td>\n",
       "      <td>17/31</td>\n",
       "      <td>1.367386e-03</td>\n",
       "      <td>1.972943e-02</td>\n",
       "      <td>3.161378</td>\n",
       "      <td>20.848829</td>\n",
       "      <td>lmo1524;lmo2559;lmo1827;lmo1096;lmo2544;lmo005...</td>\n",
       "      <td>Nucleotide metabolism</td>\n",
       "    </tr>\n",
       "    <tr>\n",
       "      <th>80</th>\n",
       "      <td>exemple_fb.gmt</td>\n",
       "      <td>lmo01501</td>\n",
       "      <td>7/9</td>\n",
       "      <td>2.685659e-03</td>\n",
       "      <td>2.712516e-02</td>\n",
       "      <td>7.802364</td>\n",
       "      <td>46.188660</td>\n",
       "      <td>lmo2192;lmo2194;lmo2196;lmo2195;lmo1892;lmo025...</td>\n",
       "      <td>beta-Lactam resistance</td>\n",
       "    </tr>\n",
       "    <tr>\n",
       "      <th>88</th>\n",
       "      <td>exemple_fb.gmt</td>\n",
       "      <td>lmo03010</td>\n",
       "      <td>51/54</td>\n",
       "      <td>1.636303e-25</td>\n",
       "      <td>8.263329e-24</td>\n",
       "      <td>40.595022</td>\n",
       "      <td>2316.846750</td>\n",
       "      <td>lmo2605;lmo1469;lmo2608;lmo0046;lmo2609;lmo261...</td>\n",
       "      <td>Ribosome</td>\n",
       "    </tr>\n",
       "    <tr>\n",
       "      <th>90</th>\n",
       "      <td>exemple_fb.gmt</td>\n",
       "      <td>lmo03020</td>\n",
       "      <td>5/5</td>\n",
       "      <td>1.682894e-03</td>\n",
       "      <td>2.124654e-02</td>\n",
       "      <td>28.562541</td>\n",
       "      <td>182.435812</td>\n",
       "      <td>lmo1826;lmo2560;lmo0259;lmo0258;lmo2606</td>\n",
       "      <td>RNA polymerase</td>\n",
       "    </tr>\n",
       "  </tbody>\n",
       "</table>\n",
       "</div>"
      ],
      "text/plain": [
       "          Gene_set      Term Overlap       P-value  Adjusted P-value  \\\n",
       "6   exemple_fb.gmt  lmo00061    9/13  2.283485e-03      2.562578e-02   \n",
       "18  exemple_fb.gmt  lmo00290    8/10  9.222081e-04      1.552384e-02   \n",
       "23  exemple_fb.gmt  lmo00340   10/11  2.277383e-05      7.667190e-04   \n",
       "36  exemple_fb.gmt  lmo00523     4/4  6.048727e-03      4.699395e-02   \n",
       "38  exemple_fb.gmt  lmo00541     6/6  4.677771e-04      1.181137e-02   \n",
       "42  exemple_fb.gmt  lmo00552   11/19  5.708086e-03      4.699395e-02   \n",
       "64  exemple_fb.gmt  lmo00900   12/18  6.782402e-04      1.370045e-02   \n",
       "67  exemple_fb.gmt  lmo00970   68/80  3.911943e-27      3.951062e-25   \n",
       "74  exemple_fb.gmt  lmo01212    9/14  4.821294e-03      4.426825e-02   \n",
       "77  exemple_fb.gmt  lmo01232   17/31  1.367386e-03      1.972943e-02   \n",
       "80  exemple_fb.gmt  lmo01501     7/9  2.685659e-03      2.712516e-02   \n",
       "88  exemple_fb.gmt  lmo03010   51/54  1.636303e-25      8.263329e-24   \n",
       "90  exemple_fb.gmt  lmo03020     5/5  1.682894e-03      2.124654e-02   \n",
       "\n",
       "    Odds Ratio  Combined Score  \\\n",
       "6     5.499451       33.447951   \n",
       "18    8.854306       61.880442   \n",
       "23   18.286750      195.483501   \n",
       "36   23.338784      119.212347   \n",
       "38   33.800000      259.162129   \n",
       "42    3.526577       18.217846   \n",
       "64    5.024404       36.658096   \n",
       "67   15.415189      937.332344   \n",
       "74    4.497277       23.991681   \n",
       "77    3.161378       20.848829   \n",
       "80    7.802364       46.188660   \n",
       "88   40.595022     2316.846750   \n",
       "90   28.562541      182.435812   \n",
       "\n",
       "                                                Genes  \\\n",
       "6   lmo0814;lmo0970;lmo1357;lmo2524;lmo1356;lmo220...   \n",
       "18  lmo1991;lmo1989;lmo1986;lmo1990;lmo1983;lmo198...   \n",
       "23  lmo0564;lmo0565;lmo0568;lmo0561;lmo0562;lmo056...   \n",
       "36                    lmo1081;lmo1082;lmo1083;lmo1084   \n",
       "38    lmo2537;lmo1084;lmo1081;lmo1082;lmo1083;lmo1078   \n",
       "42  lmo0644;lmo2521;lmo0972;lmo0971;lmo1077;lmo255...   \n",
       "64  lmo0236;lmo1363;lmo1365;lmo1315;lmo1317;lmo019...   \n",
       "67  lmo1598;lmot43;lmo1520;lmot58;lmo1755;lmot21;l...   \n",
       "74  lmo0814;lmo0970;lmo1357;lmo2524;lmo1356;lmo220...   \n",
       "77  lmo1524;lmo2559;lmo1827;lmo1096;lmo2544;lmo005...   \n",
       "80  lmo2192;lmo2194;lmo2196;lmo2195;lmo1892;lmo025...   \n",
       "88  lmo2605;lmo1469;lmo2608;lmo0046;lmo2609;lmo261...   \n",
       "90            lmo1826;lmo2560;lmo0259;lmo0258;lmo2606   \n",
       "\n",
       "                                   Pathway name  \n",
       "6                       Fatty acid biosynthesis  \n",
       "18  Valine, leucine and isoleucine biosynthesis  \n",
       "23                         Histidine metabolism  \n",
       "36           Polyketide sugar unit biosynthesis  \n",
       "38    Biosynthesis of various nucleotide sugars  \n",
       "42                   Teichoic acid biosynthesis  \n",
       "64              Terpenoid backbone biosynthesis  \n",
       "67                  Aminoacyl-tRNA biosynthesis  \n",
       "74                        Fatty acid metabolism  \n",
       "77                        Nucleotide metabolism  \n",
       "80                       beta-Lactam resistance  \n",
       "88                                     Ribosome  \n",
       "90                               RNA polymerase  "
      ]
     },
     "execution_count": 74,
     "metadata": {},
     "output_type": "execute_result"
    }
   ],
   "source": [
    "uprregulatedpaths = example_01.enrichment_results\n",
    "uprregulatedpaths"
   ]
  },
  {
   "cell_type": "code",
   "execution_count": 75,
   "id": "c5597920",
   "metadata": {},
   "outputs": [
    {
     "data": {
      "image/png": "[encoded data removed]",
      "text/plain": [
       "<Figure size 1200x800 with 2 Axes>"
      ]
     },
     "metadata": {},
     "output_type": "display_data"
    }
   ],
   "source": [
    "example_01.visualize_enrichment_results(name_outdir = \"enrichment_exampleup\",\n",
    "            outplot_file_name = \"enrichment_exampleup\",\n",
    "            plot_title = \"Gene set enrichment analysis\",\n",
    "            plot_type = \"barplot\")"
   ]
  },
  {
   "cell_type": "markdown",
   "id": "18f5cf63",
   "metadata": {},
   "source": [
    "### CARDAnalysis"
   ]
  },
  {
   "cell_type": "code",
   "execution_count": 76,
   "id": "788af53a",
   "metadata": {},
   "outputs": [
    {
     "data": {
      "text/plain": [
       "258"
      ]
     },
     "execution_count": 76,
     "metadata": {},
     "output_type": "execute_result"
    }
   ],
   "source": [
    "with open('upregulatedGNames.txt', 'r') as file:\n",
    "    genes = [line.strip() for line in file if line.strip()]\n",
    "len(genes)"
   ]
  },
  {
   "cell_type": "code",
   "execution_count": 77,
   "id": "0511a150",
   "metadata": {},
   "outputs": [],
   "source": [
    "from ResPathExplorer.CARDAnalysis import CARDAnalysis\n",
    "example_01AG = CARDAnalysis(genes_list = genes, has_CARDdata = True)"
   ]
  },
  {
   "cell_type": "code",
   "execution_count": 78,
   "id": "f2039c70",
   "metadata": {},
   "outputs": [
    {
     "data": {
      "text/html": [
       "<div>\n",
       "<style scoped>\n",
       "    .dataframe tbody tr th:only-of-type {\n",
       "        vertical-align: middle;\n",
       "    }\n",
       "\n",
       "    .dataframe tbody tr th {\n",
       "        vertical-align: top;\n",
       "    }\n",
       "\n",
       "    .dataframe thead th {\n",
       "        text-align: right;\n",
       "    }\n",
       "</style>\n",
       "<table border=\"1\" class=\"dataframe\">\n",
       "  <thead>\n",
       "    <tr style=\"text-align: right;\">\n",
       "      <th></th>\n",
       "      <th>Gene Name</th>\n",
       "      <th>Matched Name</th>\n",
       "      <th>Gene ID</th>\n",
       "      <th>Description</th>\n",
       "      <th>Antibiotics</th>\n",
       "      <th>All Synonyms</th>\n",
       "    </tr>\n",
       "  </thead>\n",
       "  <tbody>\n",
       "    <tr>\n",
       "      <th>0</th>\n",
       "      <td>DnaA</td>\n",
       "      <td>DnaA</td>\n",
       "      <td>ARO:3000248</td>\n",
       "      <td>\"DnaA is a chromosomal replication initiation ...</td>\n",
       "      <td>rifampin, rifaximin, rifabutin, rifapentine</td>\n",
       "      <td>DnaA</td>\n",
       "    </tr>\n",
       "    <tr>\n",
       "      <th>1</th>\n",
       "      <td>APH(3')-Vb</td>\n",
       "      <td>rph</td>\n",
       "      <td>ARO:3002650</td>\n",
       "      <td>\"APH(3')-Vb is a chromosomal-encoded aminoglyc...</td>\n",
       "      <td>neomycin, ribostamycin, paromomycin</td>\n",
       "      <td>APH(3')-Vb, aphA-5b, rph</td>\n",
       "    </tr>\n",
       "    <tr>\n",
       "      <th>2</th>\n",
       "      <td>mfd</td>\n",
       "      <td>mfd</td>\n",
       "      <td>ARO:3003844</td>\n",
       "      <td>\"mfd dissociates transcription elongation comp...</td>\n",
       "      <td>ciprofloxacin</td>\n",
       "      <td>mfd</td>\n",
       "    </tr>\n",
       "    <tr>\n",
       "      <th>3</th>\n",
       "      <td>antibiotic sensitive Isoleucyl-tRNA transferase</td>\n",
       "      <td>ileS</td>\n",
       "      <td>ARO:3000732</td>\n",
       "      <td>\"Isoleucyl-tRNA transferase recognizes isoleuc...</td>\n",
       "      <td>&lt;NA&gt;</td>\n",
       "      <td>ileS</td>\n",
       "    </tr>\n",
       "    <tr>\n",
       "      <th>4</th>\n",
       "      <td>Staphylococcus aureus fusE with mutation confe...</td>\n",
       "      <td>rplF</td>\n",
       "      <td>ARO:3003737</td>\n",
       "      <td>\"The mutations to the rplF gene encoding ribop...</td>\n",
       "      <td>fusidic acid</td>\n",
       "      <td>50S ribosomal subunit protein L6, Saur_fusE_FA...</td>\n",
       "    </tr>\n",
       "    <tr>\n",
       "      <th>5</th>\n",
       "      <td>rpsJ</td>\n",
       "      <td>rpsJ</td>\n",
       "      <td>ARO:3003930</td>\n",
       "      <td>\"rpsJ is a tetracycline resistance protein ide...</td>\n",
       "      <td>tetracycline</td>\n",
       "      <td>nusE, rpsJ</td>\n",
       "    </tr>\n",
       "  </tbody>\n",
       "</table>\n",
       "</div>"
      ],
      "text/plain": [
       "                                           Gene Name Matched Name  \\\n",
       "0                                               DnaA         DnaA   \n",
       "1                                         APH(3')-Vb          rph   \n",
       "2                                                mfd          mfd   \n",
       "3    antibiotic sensitive Isoleucyl-tRNA transferase         ileS   \n",
       "4  Staphylococcus aureus fusE with mutation confe...         rplF   \n",
       "5                                               rpsJ         rpsJ   \n",
       "\n",
       "       Gene ID                                        Description  \\\n",
       "0  ARO:3000248  \"DnaA is a chromosomal replication initiation ...   \n",
       "1  ARO:3002650  \"APH(3')-Vb is a chromosomal-encoded aminoglyc...   \n",
       "2  ARO:3003844  \"mfd dissociates transcription elongation comp...   \n",
       "3  ARO:3000732  \"Isoleucyl-tRNA transferase recognizes isoleuc...   \n",
       "4  ARO:3003737  \"The mutations to the rplF gene encoding ribop...   \n",
       "5  ARO:3003930  \"rpsJ is a tetracycline resistance protein ide...   \n",
       "\n",
       "                                   Antibiotics  \\\n",
       "0  rifampin, rifaximin, rifabutin, rifapentine   \n",
       "1          neomycin, ribostamycin, paromomycin   \n",
       "2                                ciprofloxacin   \n",
       "3                                         <NA>   \n",
       "4                                 fusidic acid   \n",
       "5                                 tetracycline   \n",
       "\n",
       "                                        All Synonyms  \n",
       "0                                               DnaA  \n",
       "1                           APH(3')-Vb, aphA-5b, rph  \n",
       "2                                                mfd  \n",
       "3                                               ileS  \n",
       "4  50S ribosomal subunit protein L6, Saur_fusE_FA...  \n",
       "5                                         nusE, rpsJ  "
      ]
     },
     "execution_count": 78,
     "metadata": {},
     "output_type": "execute_result"
    }
   ],
   "source": [
    "df_argup = example_01AG.ARGdf\n",
    "df_argup"
   ]
  },
  {
   "cell_type": "code",
   "execution_count": 79,
   "id": "2fea88ed",
   "metadata": {},
   "outputs": [
    {
     "name": "stdout",
     "output_type": "stream",
     "text": [
      "HTML file saved: ARGs_res.html\n"
     ]
    }
   ],
   "source": [
    "from ResPathExplorer.save_df_as_html import save_df_as_html\n",
    "save_df_as_html(df_argup, filename = \"ARGs_res.html\")"
   ]
  },
  {
   "cell_type": "code",
   "execution_count": 80,
   "id": "5437ca1b",
   "metadata": {},
   "outputs": [
    {
     "data": {
      "image/png": "[encoded data removed]",
      "text/plain": [
       "<Figure size 1000x800 with 1 Axes>"
      ]
     },
     "metadata": {},
     "output_type": "display_data"
    }
   ],
   "source": [
    "example_01AG.plot_antibiotic_frequencies(df_argup)"
   ]
  },
  {
   "cell_type": "markdown",
   "id": "0db1019f",
   "metadata": {},
   "source": [
    "### VFDBAnalysis"
   ]
  },
  {
   "cell_type": "code",
   "execution_count": 81,
   "id": "639ad0fd",
   "metadata": {},
   "outputs": [],
   "source": [
    "from ResPathExplorer.VFDBAnalysis import VFDBAnalysis\n",
    "example_01VF = VFDBAnalysis(db_dir=\"vfdb_data\")"
   ]
  },
  {
   "cell_type": "code",
   "execution_count": 82,
   "id": "6f746a9d",
   "metadata": {},
   "outputs": [
    {
     "name": "stdout",
     "output_type": "stream",
     "text": [
      "FASTA file already exists.\n",
      "XLS file already exists.\n"
     ]
    }
   ],
   "source": [
    "df_genes = example_01VF.load_and_process()"
   ]
  },
  {
   "cell_type": "code",
   "execution_count": 83,
   "id": "af2a93b4",
   "metadata": {},
   "outputs": [
    {
     "data": {
      "text/html": [
       "<div>\n",
       "<style scoped>\n",
       "    .dataframe tbody tr th:only-of-type {\n",
       "        vertical-align: middle;\n",
       "    }\n",
       "\n",
       "    .dataframe tbody tr th {\n",
       "        vertical-align: top;\n",
       "    }\n",
       "\n",
       "    .dataframe thead th {\n",
       "        text-align: right;\n",
       "    }\n",
       "</style>\n",
       "<table border=\"1\" class=\"dataframe\">\n",
       "  <thead>\n",
       "    <tr style=\"text-align: right;\">\n",
       "      <th></th>\n",
       "      <th>Gene_Name</th>\n",
       "      <th>Description</th>\n",
       "      <th>Functional category</th>\n",
       "      <th>Bacteria</th>\n",
       "      <th>VFID</th>\n",
       "      <th>VF_Name</th>\n",
       "      <th>Function</th>\n",
       "    </tr>\n",
       "  </thead>\n",
       "  <tbody>\n",
       "    <tr>\n",
       "      <th>0</th>\n",
       "      <td>lspA</td>\n",
       "      <td>signal peptidase II</td>\n",
       "      <td>Post-translational modification</td>\n",
       "      <td>Listeria monocytogenes EGD-e</td>\n",
       "      <td>VF0351</td>\n",
       "      <td>Lsp</td>\n",
       "      <td>A lipoprotein-specific signal peptidase SPase ...</td>\n",
       "    </tr>\n",
       "    <tr>\n",
       "      <th>1</th>\n",
       "      <td>gtcA</td>\n",
       "      <td>wall teichoic acid glycosylation protein GtcA</td>\n",
       "      <td>Post-translational modification</td>\n",
       "      <td>Listeria monocytogenes EGD-e</td>\n",
       "      <td>VF0607</td>\n",
       "      <td>GtcA</td>\n",
       "      <td>Crucial for both phage adsorption and cellular...</td>\n",
       "    </tr>\n",
       "  </tbody>\n",
       "</table>\n",
       "</div>"
      ],
      "text/plain": [
       "  Gene_Name                                    Description  \\\n",
       "0      lspA                            signal peptidase II   \n",
       "1      gtcA  wall teichoic acid glycosylation protein GtcA   \n",
       "\n",
       "               Functional category                      Bacteria    VFID  \\\n",
       "0  Post-translational modification  Listeria monocytogenes EGD-e  VF0351   \n",
       "1  Post-translational modification  Listeria monocytogenes EGD-e  VF0607   \n",
       "\n",
       "  VF_Name                                           Function  \n",
       "0     Lsp  A lipoprotein-specific signal peptidase SPase ...  \n",
       "1    GtcA  Crucial for both phage adsorption and cellular...  "
      ]
     },
     "execution_count": 83,
     "metadata": {},
     "output_type": "execute_result"
    }
   ],
   "source": [
    "with open('upregulatedGNames.txt', 'r') as file:\n",
    "    genes = [line.strip() for line in file if line.strip()]\n",
    "    \n",
    "bacteria_name = \"Listeria monocytogenes\"\n",
    "\n",
    "df_vfup = example_01VF.search_virulence_genes(genes, bacteria_name)\n",
    "df_vfup"
   ]
  },
  {
   "cell_type": "code",
   "execution_count": 84,
   "id": "9ca86167",
   "metadata": {},
   "outputs": [
    {
     "name": "stdout",
     "output_type": "stream",
     "text": [
      "HTML file saved: VFs_genes.html\n"
     ]
    }
   ],
   "source": [
    "from ResPathExplorer.save_df_as_html import save_df_as_html\n",
    "save_df_as_html(df_vfup, filename = \"VFs_genes.html\")"
   ]
  },
  {
   "cell_type": "code",
   "execution_count": null,
   "id": "d5b4645d",
   "metadata": {},
   "outputs": [],
   "source": [
    "# example_01VF.plot_virulence_factors_percentage(df_vf,\n",
    "#                                           bacteria_name = bacteria_name,\n",
    "#                                           show_all_categories = False)"
   ]
  },
  {
   "cell_type": "markdown",
   "id": "21f244f1",
   "metadata": {},
   "source": [
    "### URL pathways"
   ]
  },
  {
   "cell_type": "code",
   "execution_count": 85,
   "id": "578c2cb5",
   "metadata": {},
   "outputs": [
    {
     "name": "stdout",
     "output_type": "stream",
     "text": [
      "Genes names - general: 258\n",
      "ARGs: 6\n",
      "VFs genes: 2\n"
     ]
    }
   ],
   "source": [
    "ARGs = [x for x in example_01AG.ARGdf[\"Matched Name\"]]\n",
    "VFGs = [x for x in df_vfup[\"Gene_Name\"]]\n",
    "print(f\"Genes names - general: {len(genes)}\")\n",
    "print(f\"ARGs: {len(ARGs)}\")\n",
    "print(f\"VFs genes: {len(VFGs)}\")"
   ]
  },
  {
   "cell_type": "code",
   "execution_count": 86,
   "id": "0b484b98",
   "metadata": {},
   "outputs": [],
   "source": [
    "import pandas as pd\n",
    "df_up = pd.read_excel(\"df_up.xlsx\")\n",
    "\n",
    "df_up['GName'] = df_up['GName'].astype(str).str.strip()\n",
    "df_vfup['Gene_Name'] = df_vfup['Gene_Name'].astype(str).str.strip()\n",
    "df_argup['Matched Name'] = df_argup['Matched Name'].astype(str).str.strip().apply(lambda x: x[:1].lower() + x[1:] if x else x)\n",
    "\n",
    "\n",
    "vf_upgenes = set(df_vfup['Gene_Name'])\n",
    "arg_upgenes = set(df_argup['Matched Name'])\n",
    "\n",
    "\n",
    "def get_color(gene):\n",
    "    if gene in vf_upgenes:\n",
    "        return \"skyblue,purple\"\n",
    "    elif gene in arg_upgenes:\n",
    "        return \"indianred,blue\"\n",
    "    else:\n",
    "        return \"yellow,deeppink\"\n",
    "\n",
    "df_up['Color'] = df_up['GName'].apply(get_color)"
   ]
  },
  {
   "cell_type": "code",
   "execution_count": 87,
   "id": "951e53e4",
   "metadata": {},
   "outputs": [
    {
     "data": {
      "text/plain": [
       "{'gtcA', 'lspA'}"
      ]
     },
     "execution_count": 87,
     "metadata": {},
     "output_type": "execute_result"
    }
   ],
   "source": [
    "vf_upgenes"
   ]
  },
  {
   "cell_type": "code",
   "execution_count": 88,
   "id": "70590d8a",
   "metadata": {},
   "outputs": [
    {
     "data": {
      "text/html": [
       "<div>\n",
       "<style scoped>\n",
       "    .dataframe tbody tr th:only-of-type {\n",
       "        vertical-align: middle;\n",
       "    }\n",
       "\n",
       "    .dataframe tbody tr th {\n",
       "        vertical-align: top;\n",
       "    }\n",
       "\n",
       "    .dataframe thead th {\n",
       "        text-align: right;\n",
       "    }\n",
       "</style>\n",
       "<table border=\"1\" class=\"dataframe\">\n",
       "  <thead>\n",
       "    <tr style=\"text-align: right;\">\n",
       "      <th></th>\n",
       "      <th>Unnamed: 0</th>\n",
       "      <th>Gene_id</th>\n",
       "      <th>gene_name</th>\n",
       "      <th>C18:2n-6_fold_change</th>\n",
       "      <th>C18:2n-6_pValue</th>\n",
       "      <th>C18:2n-6_fdr</th>\n",
       "      <th>KEGG_ID</th>\n",
       "      <th>GName</th>\n",
       "      <th>Color</th>\n",
       "    </tr>\n",
       "  </thead>\n",
       "  <tbody>\n",
       "    <tr>\n",
       "      <th>0</th>\n",
       "      <td>0</td>\n",
       "      <td>CAC98216</td>\n",
       "      <td>dnaA</td>\n",
       "      <td>8.923479</td>\n",
       "      <td>2.550000e-12</td>\n",
       "      <td>2.630000e-10</td>\n",
       "      <td>lmo0001</td>\n",
       "      <td>dnaA</td>\n",
       "      <td>indianred,blue</td>\n",
       "    </tr>\n",
       "    <tr>\n",
       "      <th>1</th>\n",
       "      <td>1</td>\n",
       "      <td>CAC98218</td>\n",
       "      <td>lmo0003</td>\n",
       "      <td>5.410798</td>\n",
       "      <td>5.450000e-08</td>\n",
       "      <td>2.570000e-07</td>\n",
       "      <td>lmo0003</td>\n",
       "      <td>nan</td>\n",
       "      <td>yellow,deeppink</td>\n",
       "    </tr>\n",
       "    <tr>\n",
       "      <th>2</th>\n",
       "      <td>2</td>\n",
       "      <td>CAC98222</td>\n",
       "      <td>gyrA</td>\n",
       "      <td>2.580179</td>\n",
       "      <td>1.369570e-04</td>\n",
       "      <td>2.515380e-04</td>\n",
       "      <td>lmo0007</td>\n",
       "      <td>gyrA</td>\n",
       "      <td>yellow,deeppink</td>\n",
       "    </tr>\n",
       "    <tr>\n",
       "      <th>3</th>\n",
       "      <td>3</td>\n",
       "      <td>CAC98223</td>\n",
       "      <td>lmo0008</td>\n",
       "      <td>3.335894</td>\n",
       "      <td>2.380000e-09</td>\n",
       "      <td>2.290000e-08</td>\n",
       "      <td>lmo0008</td>\n",
       "      <td>nan</td>\n",
       "      <td>yellow,deeppink</td>\n",
       "    </tr>\n",
       "    <tr>\n",
       "      <th>4</th>\n",
       "      <td>4</td>\n",
       "      <td>CAC98224</td>\n",
       "      <td>lmo0009</td>\n",
       "      <td>2.987795</td>\n",
       "      <td>8.000000e-07</td>\n",
       "      <td>2.440000e-06</td>\n",
       "      <td>lmo0009</td>\n",
       "      <td>nan</td>\n",
       "      <td>yellow,deeppink</td>\n",
       "    </tr>\n",
       "  </tbody>\n",
       "</table>\n",
       "</div>"
      ],
      "text/plain": [
       "   Unnamed: 0   Gene_id gene_name  C18:2n-6_fold_change  C18:2n-6_pValue  \\\n",
       "0           0  CAC98216      dnaA              8.923479     2.550000e-12   \n",
       "1           1  CAC98218   lmo0003              5.410798     5.450000e-08   \n",
       "2           2  CAC98222      gyrA              2.580179     1.369570e-04   \n",
       "3           3  CAC98223   lmo0008              3.335894     2.380000e-09   \n",
       "4           4  CAC98224   lmo0009              2.987795     8.000000e-07   \n",
       "\n",
       "   C18:2n-6_fdr  KEGG_ID GName            Color  \n",
       "0  2.630000e-10  lmo0001  dnaA   indianred,blue  \n",
       "1  2.570000e-07  lmo0003   nan  yellow,deeppink  \n",
       "2  2.515380e-04  lmo0007  gyrA  yellow,deeppink  \n",
       "3  2.290000e-08  lmo0008   nan  yellow,deeppink  \n",
       "4  2.440000e-06  lmo0009   nan  yellow,deeppink  "
      ]
     },
     "execution_count": 88,
     "metadata": {},
     "output_type": "execute_result"
    }
   ],
   "source": [
    "df_up.head()"
   ]
  },
  {
   "cell_type": "code",
   "execution_count": 89,
   "id": "0739165e",
   "metadata": {},
   "outputs": [
    {
     "name": "stdout",
     "output_type": "stream",
     "text": [
      "6\n",
      "2\n"
     ]
    }
   ],
   "source": [
    "print(len(df_up[df_up[\"Color\"] == \"indianred,blue\"]))\n",
    "print(len(df_up[df_up[\"Color\"] == \"skyblue,purple\"]))"
   ]
  },
  {
   "cell_type": "code",
   "execution_count": 90,
   "id": "7d5316f0",
   "metadata": {},
   "outputs": [],
   "source": [
    "gene_color_dict = df_up.set_index('KEGG_ID')['Color'].to_dict()\n",
    "# gene_color_dict"
   ]
  },
  {
   "cell_type": "code",
   "execution_count": 91,
   "id": "f3c051eb",
   "metadata": {},
   "outputs": [
    {
     "data": {
      "text/plain": [
       "['lmo00061',\n",
       " 'lmo00290',\n",
       " 'lmo00340',\n",
       " 'lmo00523',\n",
       " 'lmo00541',\n",
       " 'lmo00552',\n",
       " 'lmo00900',\n",
       " 'lmo00970',\n",
       " 'lmo01212',\n",
       " 'lmo01232',\n",
       " 'lmo01501',\n",
       " 'lmo03010',\n",
       " 'lmo03020']"
      ]
     },
     "execution_count": 91,
     "metadata": {},
     "output_type": "execute_result"
    }
   ],
   "source": [
    "term_list = []\n",
    "for t in example_01.enrichment_results[\"Term\"]:\n",
    "    term_list.append(t)\n",
    "term_list"
   ]
  },
  {
   "cell_type": "code",
   "execution_count": 30,
   "id": "9cb50d0a",
   "metadata": {},
   "outputs": [
    {
     "name": "stdout",
     "output_type": "stream",
     "text": [
      "URL lmo00061: http://www.kegg.jp/kegg-bin/show_pathway?lmo00061/default%3dpink//lmo2524%09yellow,deeppink//lmo1357%09yellow,deeppink//lmo1356%09yellow,deeppink//lmo2202%09yellow,deeppink//lmo0970%09yellow,deeppink//lmo1808%09yellow,deeppink//lmo1573%09yellow,deeppink//lmo2201%09yellow,deeppink//lmo0814%09yellow,deeppink/\n",
      "URL lmo00290: http://www.kegg.jp/kegg-bin/show_pathway?lmo00290/default%3dpink//lmo1983%09yellow,deeppink//lmo1991%09yellow,deeppink//lmo1990%09yellow,deeppink//lmo1989%09yellow,deeppink//lmo1986%09yellow,deeppink//lmo1984%09yellow,deeppink//lmo1988%09yellow,deeppink//lmo1987%09yellow,deeppink/\n",
      "URL lmo00340: http://www.kegg.jp/kegg-bin/show_pathway?lmo00340/default%3dpink//lmo1925%09yellow,deeppink//lmo0566%09yellow,deeppink//lmo0567%09yellow,deeppink//lmo0569%09yellow,deeppink//lmo0568%09yellow,deeppink//lmo0564%09yellow,deeppink//lmo0563%09yellow,deeppink//lmo0561%09yellow,deeppink//lmo0562%09yellow,deeppink//lmo0565%09yellow,deeppink/\n",
      "URL lmo00523: http://www.kegg.jp/kegg-bin/show_pathway?lmo00523/default%3dpink//lmo1084%09yellow,deeppink//lmo1081%09yellow,deeppink//lmo1082%09yellow,deeppink//lmo1083%09yellow,deeppink/\n",
      "URL lmo00541: http://www.kegg.jp/kegg-bin/show_pathway?lmo00541/default%3dpink//lmo1078%09yellow,deeppink//lmo2537%09yellow,deeppink//lmo1082%09yellow,deeppink//lmo1083%09yellow,deeppink//lmo1084%09yellow,deeppink//lmo1081%09yellow,deeppink/\n",
      "URL lmo00552: http://www.kegg.jp/kegg-bin/show_pathway?lmo00552/default%3dpink//lmo1077%09yellow,deeppink//lmo2518%09yellow,deeppink//lmo2519%09yellow,deeppink//lmo0971%09yellow,deeppink//lmo2521%09yellow,deeppink//lmo0644%09yellow,deeppink//lmo2554%09yellow,deeppink//lmo1026%09yellow,deeppink//lmo1085%09yellow,deeppink//lmo1088%09yellow,deeppink//lmo0972%09yellow,deeppink/\n",
      "URL lmo00900: http://www.kegg.jp/kegg-bin/show_pathway?lmo00900/default%3dpink//lmo1365%09yellow,deeppink//lmo1930%09yellow,deeppink//lmo0190%09yellow,deeppink//lmo0236%09yellow,deeppink//lmo0012%09yellow,deeppink//lmo1317%09yellow,deeppink//lmo0235%09yellow,deeppink//lmo0010%09yellow,deeppink//lmo0011%09yellow,deeppink//lmo1363%09yellow,deeppink//lmo1932%09yellow,deeppink//lmo1315%09yellow,deeppink/\n",
      "URL lmo00970: http://www.kegg.jp/kegg-bin/show_pathway?lmo00970/default%3dpink//lmo1221%09yellow,deeppink//lmot16%09yellow,deeppink//lmot65%09yellow,deeppink//lmot29%09yellow,deeppink//lmot05%09yellow,deeppink//lmot31%09yellow,deeppink//lmot32%09yellow,deeppink//lmo1519%09yellow,deeppink//lmot06%09yellow,deeppink//lmo1504%09yellow,deeppink//lmot18%09yellow,deeppink//lmot27%09yellow,deeppink//lmo2019%09indianred,blue//lmot26%09yellow,deeppink//lmot39%09yellow,deeppink//lmo2561%09yellow,deeppink//lmot48%09yellow,deeppink//lmot55%09yellow,deeppink//lmot43%09yellow,deeppink//lmo1755%09yellow,deeppink//lmo1520%09yellow,deeppink//lmo1459%09yellow,deeppink//lmot53%09yellow,deeppink//lmot58%09yellow,deeppink//lmot60%09yellow,deeppink//lmot40%09yellow,deeppink//lmot49%09yellow,deeppink//lmot15%09yellow,deeppink//lmot10%09yellow,deeppink//lmo0177%09yellow,deeppink//lmot28%09yellow,deeppink//lmo1559%09yellow,deeppink//lmot02%09yellow,deeppink//lmo1756%09yellow,deeppink//lmot61%09yellow,deeppink//lmo1222%09yellow,deeppink//lmo1319%09yellow,deeppink//lmot54%09yellow,deeppink//lmot01%09yellow,deeppink//lmot59%09yellow,deeppink//lmot03%09yellow,deeppink//lmot14%09yellow,deeppink//lmot50%09yellow,deeppink//lmot07%09yellow,deeppink//lmot22%09yellow,deeppink//lmo0228%09yellow,deeppink//lmot35%09yellow,deeppink//lmot52%09yellow,deeppink//lmot66%09yellow,deeppink//lmot51%09yellow,deeppink//lmo0237%09yellow,deeppink//lmo1598%09yellow,deeppink//lmo2198%09yellow,deeppink//lmo1660%09yellow,deeppink//lmo1552%09yellow,deeppink//lmot13%09yellow,deeppink//lmot47%09yellow,deeppink//lmot34%09yellow,deeppink//lmot44%09yellow,deeppink//lmot12%09yellow,deeppink//lmot25%09yellow,deeppink//lmot33%09yellow,deeppink//lmot21%09yellow,deeppink//lmot23%09yellow,deeppink//lmot24%09yellow,deeppink//lmot30%09yellow,deeppink//lmot09%09yellow,deeppink//lmot19%09yellow,deeppink/\n",
      "URL lmo01212: http://www.kegg.jp/kegg-bin/show_pathway?lmo01212/default%3dpink//lmo2524%09yellow,deeppink//lmo1357%09yellow,deeppink//lmo1356%09yellow,deeppink//lmo2202%09yellow,deeppink//lmo1808%09yellow,deeppink//lmo0970%09yellow,deeppink//lmo1573%09yellow,deeppink//lmo2201%09yellow,deeppink//lmo0814%09yellow,deeppink/\n",
      "URL lmo01232: http://www.kegg.jp/kegg-bin/show_pathway?lmo01232/default%3dpink//lmo1497%09yellow,deeppink//lmo1885%09yellow,deeppink//lmo1096%09yellow,deeppink//lmo2758%09yellow,deeppink//lmo1929%09yellow,deeppink//lmo2559%09yellow,deeppink//lmo1239%09yellow,deeppink//lmo2538%09yellow,deeppink//lmo1939%09yellow,deeppink//lmo0055%09yellow,deeppink//lmo0219%09yellow,deeppink//lmo1827%09yellow,deeppink//lmo2544%09yellow,deeppink//lmo2611%09yellow,deeppink//lmo1840%09yellow,deeppink//lmo1463%09yellow,deeppink//lmo1524%09yellow,deeppink/\n",
      "URL lmo01501: http://www.kegg.jp/kegg-bin/show_pathway?lmo01501/default%3dpink//lmo2196%09yellow,deeppink//lmo2195%09yellow,deeppink//lmo0252%09yellow,deeppink//lmo2193%09yellow,deeppink//lmo1892%09yellow,deeppink//lmo2194%09yellow,deeppink//lmo2192%09yellow,deeppink/\n",
      "URL lmo03010: http://www.kegg.jp/kegg-bin/show_pathway?lmo03010/default%3dpink//lmo0250%09yellow,deeppink//lmo2856%09yellow,deeppink//lmo1542%09yellow,deeppink//lmo2596%09yellow,deeppink//lmo1330%09yellow,deeppink//lmo1658%09yellow,deeppink//lmo2609%09yellow,deeppink//lmo2627%09yellow,deeppink//lmo0251%09yellow,deeppink//lmo1540%09yellow,deeppink//lmo2623%09yellow,deeppink//lmo2621%09yellow,deeppink//lmo1787%09yellow,deeppink//lmo1480%09yellow,deeppink//lmo2656%09yellow,deeppink//lmo2633%09indianred,blue//lmo2655%09yellow,deeppink//lmo0244%09yellow,deeppink//lmo2613%09yellow,deeppink//lmo0248%09yellow,deeppink//lmo2629%09yellow,deeppink//lmo2628%09yellow,deeppink//lmo2548%09yellow,deeppink//lmo2630%09yellow,deeppink//lmo2615%09yellow,deeppink//lmo2624%09yellow,deeppink//lmo2605%09yellow,deeppink//lmo1882%09yellow,deeppink//lmo2618%09yellow,deeppink//lmo2614%09yellow,deeppink//lmo2616%09yellow,deeppink//lmo2608%09yellow,deeppink//lmo0486%09yellow,deeppink//lmo2597%09yellow,deeppink//lmo0046%09yellow,deeppink//lmo1596%09yellow,deeppink//lmo2632%09yellow,deeppink//lmo2631%09yellow,deeppink//lmo1797%09yellow,deeppink//lmo2626%09yellow,deeppink//lmo1784%09yellow,deeppink//lmo2617%09indianred,blue//lmo2622%09yellow,deeppink//lmo0044%09yellow,deeppink//lmo0249%09yellow,deeppink//lmo1783%09yellow,deeppink//lmo2625%09yellow,deeppink//lmo2607%09yellow,deeppink//lmo1469%09yellow,deeppink//lmo1816%09yellow,deeppink//lmo2620%09yellow,deeppink/\n",
      "URL lmo03020: http://www.kegg.jp/kegg-bin/show_pathway?lmo03020/default%3dpink//lmo0259%09yellow,deeppink//lmo0258%09yellow,deeppink//lmo1826%09yellow,deeppink//lmo2560%09yellow,deeppink//lmo2606%09yellow,deeppink/\n"
     ]
    }
   ],
   "source": [
    "from ResPathExplorer.URL_pathway import get_url_pathway\n",
    "gene_set = example_01.gene_set\n",
    "\n",
    "for t in term_list:\n",
    "    genes_in_pathway = next(genes for (path_id, _), genes in gene_set.items() if path_id == t)\n",
    "\n",
    "    filtered_gene_color_dict = {\n",
    "        gene: gene_color_dict[gene]\n",
    "        for gene in genes_in_pathway\n",
    "        if gene in gene_color_dict\n",
    "    }\n",
    "    url = get_url_pathway(t, filtered_gene_color_dict)\n",
    "    print(f\"URL {t}:\", url)"
   ]
  },
  {
   "cell_type": "code",
   "execution_count": null,
   "id": "62592f80",
   "metadata": {},
   "outputs": [],
   "source": []
  },
  {
   "cell_type": "markdown",
   "id": "557368df",
   "metadata": {},
   "source": [
    "## Downregulated genes"
   ]
  },
  {
   "cell_type": "code",
   "execution_count": 92,
   "id": "e2203ad0",
   "metadata": {},
   "outputs": [],
   "source": [
    "from ResPathExplorer.KeggAnalysis import KeggAnalysis\n",
    "organism = \"Listeria monocytogenes EGD-e (serotype 1/2a)\" #organism name\n",
    "GMT_file = \"exemple_fb.gmt\" #GMT file name\n",
    "example_02 = KeggAnalysis(organism_name = organism, file_name_gmt= GMT_file, use_existing_gmt = True)"
   ]
  },
  {
   "cell_type": "code",
   "execution_count": 93,
   "id": "b22f719c",
   "metadata": {},
   "outputs": [
    {
     "name": "stdout",
     "output_type": "stream",
     "text": [
      "732\n",
      "2763\n"
     ]
    }
   ],
   "source": [
    "with open('downregulted.txt', 'r') as file:\n",
    "    downregulated = [line.strip() for line in file if line.strip()]\n",
    "print(len(downregulated))\n",
    "print(len(background))"
   ]
  },
  {
   "cell_type": "code",
   "execution_count": 95,
   "id": "989ac81c",
   "metadata": {},
   "outputs": [
    {
     "name": "stdout",
     "output_type": "stream",
     "text": [
      "✅ File renamed to: enrichment_exampledown.txt\n",
      "✅ File renamed to: enrichment_exampledown.pdf\n"
     ]
    }
   ],
   "source": [
    "example_02.enrichment_analysis(gene_list = downregulated,\n",
    "            cutoff = 0.05,\n",
    "            name_outdir = \"enrichment_exampledown\",\n",
    "            number_path = 10,\n",
    "            name_results_file = \"enrichment_exampledown\",\n",
    "            genes_background = background)"
   ]
  },
  {
   "cell_type": "code",
   "execution_count": 96,
   "id": "e7ee1cf6",
   "metadata": {},
   "outputs": [
    {
     "data": {
      "text/html": [
       "<div>\n",
       "<style scoped>\n",
       "    .dataframe tbody tr th:only-of-type {\n",
       "        vertical-align: middle;\n",
       "    }\n",
       "\n",
       "    .dataframe tbody tr th {\n",
       "        vertical-align: top;\n",
       "    }\n",
       "\n",
       "    .dataframe thead th {\n",
       "        text-align: right;\n",
       "    }\n",
       "</style>\n",
       "<table border=\"1\" class=\"dataframe\">\n",
       "  <thead>\n",
       "    <tr style=\"text-align: right;\">\n",
       "      <th></th>\n",
       "      <th>Gene_set</th>\n",
       "      <th>Term</th>\n",
       "      <th>Overlap</th>\n",
       "      <th>P-value</th>\n",
       "      <th>Adjusted P-value</th>\n",
       "      <th>Odds Ratio</th>\n",
       "      <th>Combined Score</th>\n",
       "      <th>Genes</th>\n",
       "      <th>Pathway name</th>\n",
       "    </tr>\n",
       "  </thead>\n",
       "  <tbody>\n",
       "    <tr>\n",
       "      <th>0</th>\n",
       "      <td>exemple_fb.gmt</td>\n",
       "      <td>lmo00010</td>\n",
       "      <td>20/41</td>\n",
       "      <td>1.832094e-03</td>\n",
       "      <td>1.718001e-02</td>\n",
       "      <td>2.673113</td>\n",
       "      <td>16.846748</td>\n",
       "      <td>lmo0359;lmo1052;lmo0574;lmo1054;lmo2133;lmo052...</td>\n",
       "      <td>Glycolysis / Gluconeogenesis</td>\n",
       "    </tr>\n",
       "    <tr>\n",
       "      <th>2</th>\n",
       "      <td>exemple_fb.gmt</td>\n",
       "      <td>lmo00030</td>\n",
       "      <td>20/34</td>\n",
       "      <td>6.823887e-05</td>\n",
       "      <td>9.894636e-04</td>\n",
       "      <td>3.977471</td>\n",
       "      <td>38.153878</td>\n",
       "      <td>lmo2660;lmo2661;lmo0359;lmo2662;lmo0499;lmo267...</td>\n",
       "      <td>Pentose phosphate pathway</td>\n",
       "    </tr>\n",
       "    <tr>\n",
       "      <th>3</th>\n",
       "      <td>exemple_fb.gmt</td>\n",
       "      <td>lmo00040</td>\n",
       "      <td>11/15</td>\n",
       "      <td>2.041315e-04</td>\n",
       "      <td>2.537062e-03</td>\n",
       "      <td>7.135366</td>\n",
       "      <td>60.627397</td>\n",
       "      <td>lmo0735;lmo2661;lmo2094;lmo2663;lmo0505;lmo050...</td>\n",
       "      <td>Pentose and glucuronate interconversions</td>\n",
       "    </tr>\n",
       "    <tr>\n",
       "      <th>4</th>\n",
       "      <td>exemple_fb.gmt</td>\n",
       "      <td>lmo00051</td>\n",
       "      <td>44/52</td>\n",
       "      <td>1.472488e-18</td>\n",
       "      <td>6.405323e-17</td>\n",
       "      <td>15.287667</td>\n",
       "      <td>627.705163</td>\n",
       "      <td>lmo0400;lmo0024;lmo0359;lmo0398;lmo2662;lmo050...</td>\n",
       "      <td>Fructose and mannose metabolism</td>\n",
       "    </tr>\n",
       "    <tr>\n",
       "      <th>28</th>\n",
       "      <td>exemple_fb.gmt</td>\n",
       "      <td>lmo00500</td>\n",
       "      <td>40/56</td>\n",
       "      <td>1.931111e-12</td>\n",
       "      <td>5.600221e-11</td>\n",
       "      <td>7.097801</td>\n",
       "      <td>191.448463</td>\n",
       "      <td>lmo0301;lmo0876;lmo0574;lmo0374;lmo2782;lmo172...</td>\n",
       "      <td>Starch and sucrose metabolism</td>\n",
       "    </tr>\n",
       "    <tr>\n",
       "      <th>33</th>\n",
       "      <td>exemple_fb.gmt</td>\n",
       "      <td>lmo00562</td>\n",
       "      <td>7/9</td>\n",
       "      <td>1.974713e-03</td>\n",
       "      <td>1.718001e-02</td>\n",
       "      <td>8.338387</td>\n",
       "      <td>51.925907</td>\n",
       "      <td>lmo0386;lmo0384;lmo0385;lmo0383;lmo0205;lmo020...</td>\n",
       "      <td>Inositol phosphate metabolism</td>\n",
       "    </tr>\n",
       "    <tr>\n",
       "      <th>45</th>\n",
       "      <td>exemple_fb.gmt</td>\n",
       "      <td>lmo00710</td>\n",
       "      <td>20/27</td>\n",
       "      <td>3.174189e-07</td>\n",
       "      <td>5.523088e-06</td>\n",
       "      <td>7.716632</td>\n",
       "      <td>115.464295</td>\n",
       "      <td>lmo2660;lmo2661;lmo0359;lmo2662;lmo0499;lmo267...</td>\n",
       "      <td>Carbon fixation by Calvin cycle</td>\n",
       "    </tr>\n",
       "    <tr>\n",
       "      <th>59</th>\n",
       "      <td>exemple_fb.gmt</td>\n",
       "      <td>lmo01120</td>\n",
       "      <td>70/150</td>\n",
       "      <td>4.654341e-08</td>\n",
       "      <td>1.012319e-06</td>\n",
       "      <td>2.562555</td>\n",
       "      <td>43.263306</td>\n",
       "      <td>lmo2603;lmo0400;lmo2660;lmo2586;lmo2661;lmo197...</td>\n",
       "      <td>Microbial metabolism in diverse environments</td>\n",
       "    </tr>\n",
       "    <tr>\n",
       "      <th>60</th>\n",
       "      <td>exemple_fb.gmt</td>\n",
       "      <td>lmo01200</td>\n",
       "      <td>34/76</td>\n",
       "      <td>4.233818e-04</td>\n",
       "      <td>4.604277e-03</td>\n",
       "      <td>2.296998</td>\n",
       "      <td>17.841324</td>\n",
       "      <td>lmo2660;lmo2661;lmo0359;lmo2586;lmo1052;lmo266...</td>\n",
       "      <td>Carbon metabolism</td>\n",
       "    </tr>\n",
       "    <tr>\n",
       "      <th>73</th>\n",
       "      <td>exemple_fb.gmt</td>\n",
       "      <td>lmo02060</td>\n",
       "      <td>73/86</td>\n",
       "      <td>1.618607e-30</td>\n",
       "      <td>1.408188e-28</td>\n",
       "      <td>16.556229</td>\n",
       "      <td>1135.690897</td>\n",
       "      <td>lmo0876;lmo0301;lmo0503;lmo0400;lmo0024;lmo197...</td>\n",
       "      <td>Phosphotransferase system (PTS)</td>\n",
       "    </tr>\n",
       "  </tbody>\n",
       "</table>\n",
       "</div>"
      ],
      "text/plain": [
       "          Gene_set      Term Overlap       P-value  Adjusted P-value  \\\n",
       "0   exemple_fb.gmt  lmo00010   20/41  1.832094e-03      1.718001e-02   \n",
       "2   exemple_fb.gmt  lmo00030   20/34  6.823887e-05      9.894636e-04   \n",
       "3   exemple_fb.gmt  lmo00040   11/15  2.041315e-04      2.537062e-03   \n",
       "4   exemple_fb.gmt  lmo00051   44/52  1.472488e-18      6.405323e-17   \n",
       "28  exemple_fb.gmt  lmo00500   40/56  1.931111e-12      5.600221e-11   \n",
       "33  exemple_fb.gmt  lmo00562     7/9  1.974713e-03      1.718001e-02   \n",
       "45  exemple_fb.gmt  lmo00710   20/27  3.174189e-07      5.523088e-06   \n",
       "59  exemple_fb.gmt  lmo01120  70/150  4.654341e-08      1.012319e-06   \n",
       "60  exemple_fb.gmt  lmo01200   34/76  4.233818e-04      4.604277e-03   \n",
       "73  exemple_fb.gmt  lmo02060   73/86  1.618607e-30      1.408188e-28   \n",
       "\n",
       "    Odds Ratio  Combined Score  \\\n",
       "0     2.673113       16.846748   \n",
       "2     3.977471       38.153878   \n",
       "3     7.135366       60.627397   \n",
       "4    15.287667      627.705163   \n",
       "28    7.097801      191.448463   \n",
       "33    8.338387       51.925907   \n",
       "45    7.716632      115.464295   \n",
       "59    2.562555       43.263306   \n",
       "60    2.296998       17.841324   \n",
       "73   16.556229     1135.690897   \n",
       "\n",
       "                                                Genes  \\\n",
       "0   lmo0359;lmo1052;lmo0574;lmo1054;lmo2133;lmo052...   \n",
       "2   lmo2660;lmo2661;lmo0359;lmo2662;lmo0499;lmo267...   \n",
       "3   lmo0735;lmo2661;lmo2094;lmo2663;lmo0505;lmo050...   \n",
       "4   lmo0400;lmo0024;lmo0359;lmo0398;lmo2662;lmo050...   \n",
       "28  lmo0301;lmo0876;lmo0574;lmo0374;lmo2782;lmo172...   \n",
       "33  lmo0386;lmo0384;lmo0385;lmo0383;lmo0205;lmo020...   \n",
       "45  lmo2660;lmo2661;lmo0359;lmo2662;lmo0499;lmo267...   \n",
       "59  lmo2603;lmo0400;lmo2660;lmo2586;lmo2661;lmo197...   \n",
       "60  lmo2660;lmo2661;lmo0359;lmo2586;lmo1052;lmo266...   \n",
       "73  lmo0876;lmo0301;lmo0503;lmo0400;lmo0024;lmo197...   \n",
       "\n",
       "                                    Pathway name  \n",
       "0                   Glycolysis / Gluconeogenesis  \n",
       "2                      Pentose phosphate pathway  \n",
       "3       Pentose and glucuronate interconversions  \n",
       "4                Fructose and mannose metabolism  \n",
       "28                 Starch and sucrose metabolism  \n",
       "33                 Inositol phosphate metabolism  \n",
       "45               Carbon fixation by Calvin cycle  \n",
       "59  Microbial metabolism in diverse environments  \n",
       "60                             Carbon metabolism  \n",
       "73               Phosphotransferase system (PTS)  "
      ]
     },
     "execution_count": 96,
     "metadata": {},
     "output_type": "execute_result"
    }
   ],
   "source": [
    "downregulatedpaths = example_02.enrichment_results\n",
    "downregulatedpaths"
   ]
  },
  {
   "cell_type": "code",
   "execution_count": 97,
   "id": "f9a27b01",
   "metadata": {},
   "outputs": [
    {
     "data": {
      "image/png": "[encoded data removed]",
      "text/plain": [
       "<Figure size 1200x800 with 2 Axes>"
      ]
     },
     "metadata": {},
     "output_type": "display_data"
    }
   ],
   "source": [
    "example_02.visualize_enrichment_results(name_outdir = \"enrichment_exampledown\",\n",
    "            outplot_file_name = \"enrichment_exampledown\",\n",
    "            plot_title = \"Gene set enrichment analysis\",\n",
    "            plot_type = \"barplot\")"
   ]
  },
  {
   "cell_type": "markdown",
   "id": "e15ac6a9",
   "metadata": {},
   "source": [
    "### CARDAnalysis"
   ]
  },
  {
   "cell_type": "code",
   "execution_count": 98,
   "id": "826e7edd",
   "metadata": {},
   "outputs": [
    {
     "data": {
      "text/plain": [
       "80"
      ]
     },
     "execution_count": 98,
     "metadata": {},
     "output_type": "execute_result"
    }
   ],
   "source": [
    "with open('downregultedGNames.txt', 'r') as file:\n",
    "    genes = [line.strip() for line in file if line.strip()]\n",
    "len(genes)"
   ]
  },
  {
   "cell_type": "code",
   "execution_count": 99,
   "id": "26317cf3",
   "metadata": {},
   "outputs": [],
   "source": [
    "from ResPathExplorer.CARDAnalysis import CARDAnalysis\n",
    "example_02AG = CARDAnalysis(genes_list = genes, has_CARDdata = True)"
   ]
  },
  {
   "cell_type": "code",
   "execution_count": 100,
   "id": "fdd42eaa",
   "metadata": {},
   "outputs": [
    {
     "data": {
      "text/html": [
       "<div>\n",
       "<style scoped>\n",
       "    .dataframe tbody tr th:only-of-type {\n",
       "        vertical-align: middle;\n",
       "    }\n",
       "\n",
       "    .dataframe tbody tr th {\n",
       "        vertical-align: top;\n",
       "    }\n",
       "\n",
       "    .dataframe thead th {\n",
       "        text-align: right;\n",
       "    }\n",
       "</style>\n",
       "<table border=\"1\" class=\"dataframe\">\n",
       "  <thead>\n",
       "    <tr style=\"text-align: right;\">\n",
       "      <th></th>\n",
       "      <th>Gene Name</th>\n",
       "      <th>Matched Name</th>\n",
       "      <th>Gene ID</th>\n",
       "      <th>Description</th>\n",
       "      <th>Antibiotics</th>\n",
       "      <th>All Synonyms</th>\n",
       "    </tr>\n",
       "  </thead>\n",
       "  <tbody>\n",
       "    <tr>\n",
       "      <th>0</th>\n",
       "      <td>sepA</td>\n",
       "      <td>sepA</td>\n",
       "      <td>ARO:3007012</td>\n",
       "      <td>\"sepA is a multidrug efflux pump that confers ...</td>\n",
       "      <td>acriflavine</td>\n",
       "      <td>sepA</td>\n",
       "    </tr>\n",
       "    <tr>\n",
       "      <th>1</th>\n",
       "      <td>mecA</td>\n",
       "      <td>mecA</td>\n",
       "      <td>ARO:3000617</td>\n",
       "      <td>\"A foreign PBP2a acquired by lateral gene tran...</td>\n",
       "      <td>methicillin</td>\n",
       "      <td>PBP2A, mecA</td>\n",
       "    </tr>\n",
       "  </tbody>\n",
       "</table>\n",
       "</div>"
      ],
      "text/plain": [
       "  Gene Name Matched Name      Gene ID  \\\n",
       "0      sepA         sepA  ARO:3007012   \n",
       "1      mecA         mecA  ARO:3000617   \n",
       "\n",
       "                                         Description  Antibiotics All Synonyms  \n",
       "0  \"sepA is a multidrug efflux pump that confers ...  acriflavine         sepA  \n",
       "1  \"A foreign PBP2a acquired by lateral gene tran...  methicillin  PBP2A, mecA  "
      ]
     },
     "execution_count": 100,
     "metadata": {},
     "output_type": "execute_result"
    }
   ],
   "source": [
    "df_argdown = example_02AG.ARGdf\n",
    "df_argdown"
   ]
  },
  {
   "cell_type": "markdown",
   "id": "980ad35a",
   "metadata": {},
   "source": [
    "### VFDBAnalysis"
   ]
  },
  {
   "cell_type": "code",
   "execution_count": 101,
   "id": "41f44ce0",
   "metadata": {},
   "outputs": [],
   "source": [
    "from ResPathExplorer.VFDBAnalysis import VFDBAnalysis\n",
    "example_02VF = VFDBAnalysis(db_dir=\"vfdb_data\")"
   ]
  },
  {
   "cell_type": "code",
   "execution_count": 102,
   "id": "0b09964d",
   "metadata": {},
   "outputs": [
    {
     "name": "stdout",
     "output_type": "stream",
     "text": [
      "FASTA file already exists.\n",
      "XLS file already exists.\n"
     ]
    }
   ],
   "source": [
    "df_genes = example_02VF.load_and_process()"
   ]
  },
  {
   "cell_type": "code",
   "execution_count": 103,
   "id": "d8f6e51a",
   "metadata": {},
   "outputs": [
    {
     "data": {
      "text/html": [
       "<div>\n",
       "<style scoped>\n",
       "    .dataframe tbody tr th:only-of-type {\n",
       "        vertical-align: middle;\n",
       "    }\n",
       "\n",
       "    .dataframe tbody tr th {\n",
       "        vertical-align: top;\n",
       "    }\n",
       "\n",
       "    .dataframe thead th {\n",
       "        text-align: right;\n",
       "    }\n",
       "</style>\n",
       "<table border=\"1\" class=\"dataframe\">\n",
       "  <thead>\n",
       "    <tr style=\"text-align: right;\">\n",
       "      <th></th>\n",
       "      <th>Gene_Name</th>\n",
       "      <th>Description</th>\n",
       "      <th>Functional category</th>\n",
       "      <th>Bacteria</th>\n",
       "      <th>VFID</th>\n",
       "      <th>VF_Name</th>\n",
       "      <th>Function</th>\n",
       "    </tr>\n",
       "  </thead>\n",
       "  <tbody>\n",
       "    <tr>\n",
       "      <th>0</th>\n",
       "      <td>hly</td>\n",
       "      <td>listeriolysin O precursor</td>\n",
       "      <td>Exotoxin</td>\n",
       "      <td>Listeria monocytogenes EGD-e</td>\n",
       "      <td>VF0064</td>\n",
       "      <td>LLO</td>\n",
       "      <td>Mediates lysis of the primary phagosomes forme...</td>\n",
       "    </tr>\n",
       "    <tr>\n",
       "      <th>1</th>\n",
       "      <td>actA</td>\n",
       "      <td>actin-assembly inducing protein precursor</td>\n",
       "      <td>Motility</td>\n",
       "      <td>Listeria monocytogenes EGD-e</td>\n",
       "      <td>VF0066</td>\n",
       "      <td>ActA</td>\n",
       "      <td>Factor responsible for actin-based motility an...</td>\n",
       "    </tr>\n",
       "    <tr>\n",
       "      <th>2</th>\n",
       "      <td>prfA</td>\n",
       "      <td>listeriolysin positive regulatory protein</td>\n",
       "      <td>Regulation</td>\n",
       "      <td>Listeria monocytogenes EGD-e</td>\n",
       "      <td>VF0062</td>\n",
       "      <td>PrfA</td>\n",
       "      <td>The main switch of a regulon including the maj...</td>\n",
       "    </tr>\n",
       "    <tr>\n",
       "      <th>3</th>\n",
       "      <td>plcA</td>\n",
       "      <td>phosphatidylinositol-specific phospholipase c</td>\n",
       "      <td>Exotoxin</td>\n",
       "      <td>Listeria monocytogenes EGD-e</td>\n",
       "      <td>VF0063</td>\n",
       "      <td>PlcA</td>\n",
       "      <td>Phosphatidylinositol-specific phospholipase C,...</td>\n",
       "    </tr>\n",
       "    <tr>\n",
       "      <th>4</th>\n",
       "      <td>plcB</td>\n",
       "      <td>phospholipase C</td>\n",
       "      <td>Exotoxin</td>\n",
       "      <td>Listeria monocytogenes EGD-e</td>\n",
       "      <td>VF0067</td>\n",
       "      <td>PlcB</td>\n",
       "      <td>Mediates dissolution to the double-membrane se...</td>\n",
       "    </tr>\n",
       "    <tr>\n",
       "      <th>5</th>\n",
       "      <td>inlA</td>\n",
       "      <td>Internalin A</td>\n",
       "      <td>Invasion</td>\n",
       "      <td>Listeria monocytogenes EGD-e</td>\n",
       "      <td>VF0069</td>\n",
       "      <td>InlA</td>\n",
       "      <td>Promotes entry into host cells; mediates the c...</td>\n",
       "    </tr>\n",
       "    <tr>\n",
       "      <th>6</th>\n",
       "      <td>inlB</td>\n",
       "      <td>Internalin B</td>\n",
       "      <td>Invasion</td>\n",
       "      <td>Listeria monocytogenes EGD-e</td>\n",
       "      <td>VF0070</td>\n",
       "      <td>InlB</td>\n",
       "      <td>Promotes entry into host cells;mediates crossi...</td>\n",
       "    </tr>\n",
       "    <tr>\n",
       "      <th>7</th>\n",
       "      <td>clpE</td>\n",
       "      <td>ATP-dependent protease</td>\n",
       "      <td>Stress survival</td>\n",
       "      <td>Listeria monocytogenes EGD-e</td>\n",
       "      <td>VF0073</td>\n",
       "      <td>ClpE</td>\n",
       "      <td>An ATPase required for prolonged survival at 4...</td>\n",
       "    </tr>\n",
       "    <tr>\n",
       "      <th>8</th>\n",
       "      <td>inlC</td>\n",
       "      <td>internalin C</td>\n",
       "      <td>Immune modulation</td>\n",
       "      <td>Listeria monocytogenes EGD-e</td>\n",
       "      <td>VF0438</td>\n",
       "      <td>InlC</td>\n",
       "      <td>Protrusion formation; dampens innate immune re...</td>\n",
       "    </tr>\n",
       "  </tbody>\n",
       "</table>\n",
       "</div>"
      ],
      "text/plain": [
       "  Gene_Name                                    Description  \\\n",
       "0       hly                      listeriolysin O precursor   \n",
       "1      actA      actin-assembly inducing protein precursor   \n",
       "2      prfA      listeriolysin positive regulatory protein   \n",
       "3      plcA  phosphatidylinositol-specific phospholipase c   \n",
       "4      plcB                                phospholipase C   \n",
       "5      inlA                                   Internalin A   \n",
       "6      inlB                                   Internalin B   \n",
       "7      clpE                         ATP-dependent protease   \n",
       "8      inlC                                   internalin C   \n",
       "\n",
       "  Functional category                      Bacteria    VFID VF_Name  \\\n",
       "0            Exotoxin  Listeria monocytogenes EGD-e  VF0064     LLO   \n",
       "1            Motility  Listeria monocytogenes EGD-e  VF0066    ActA   \n",
       "2          Regulation  Listeria monocytogenes EGD-e  VF0062    PrfA   \n",
       "3            Exotoxin  Listeria monocytogenes EGD-e  VF0063    PlcA   \n",
       "4            Exotoxin  Listeria monocytogenes EGD-e  VF0067    PlcB   \n",
       "5            Invasion  Listeria monocytogenes EGD-e  VF0069    InlA   \n",
       "6            Invasion  Listeria monocytogenes EGD-e  VF0070    InlB   \n",
       "7     Stress survival  Listeria monocytogenes EGD-e  VF0073    ClpE   \n",
       "8   Immune modulation  Listeria monocytogenes EGD-e  VF0438    InlC   \n",
       "\n",
       "                                            Function  \n",
       "0  Mediates lysis of the primary phagosomes forme...  \n",
       "1  Factor responsible for actin-based motility an...  \n",
       "2  The main switch of a regulon including the maj...  \n",
       "3  Phosphatidylinositol-specific phospholipase C,...  \n",
       "4  Mediates dissolution to the double-membrane se...  \n",
       "5  Promotes entry into host cells; mediates the c...  \n",
       "6  Promotes entry into host cells;mediates crossi...  \n",
       "7  An ATPase required for prolonged survival at 4...  \n",
       "8  Protrusion formation; dampens innate immune re...  "
      ]
     },
     "execution_count": 103,
     "metadata": {},
     "output_type": "execute_result"
    }
   ],
   "source": [
    "bacteria_name = \"Listeria monocytogenes\"\n",
    "\n",
    "df_vfdown = example_02VF.search_virulence_genes(genes, bacteria_name)\n",
    "df_vfdown"
   ]
  },
  {
   "cell_type": "code",
   "execution_count": 105,
   "id": "d636cfa4",
   "metadata": {},
   "outputs": [
    {
     "data": {
      "image/png": "[encoded data removed]",
      "text/plain": [
       "<Figure size 1400x600 with 1 Axes>"
      ]
     },
     "metadata": {},
     "output_type": "display_data"
    }
   ],
   "source": [
    "example_02VF.plot_virulence_factors_percentage(df_vfdown,\n",
    "                                          bacteria_name = bacteria_name,\n",
    "                                          show_all_categories = False)"
   ]
  },
  {
   "cell_type": "markdown",
   "id": "8aa93187",
   "metadata": {},
   "source": [
    "### URL pathways"
   ]
  },
  {
   "cell_type": "code",
   "execution_count": 106,
   "id": "1cb2a0f7",
   "metadata": {},
   "outputs": [
    {
     "name": "stdout",
     "output_type": "stream",
     "text": [
      "Genes names - general: 80\n",
      "ARGs: 2\n",
      "VFs genes: 9\n"
     ]
    }
   ],
   "source": [
    "ARGs = [x for x in example_02AG.ARGdf[\"Matched Name\"]]\n",
    "VFGs = [x for x in df_vfdown[\"Gene_Name\"]]\n",
    "print(f\"Genes names - general: {len(genes)}\")\n",
    "print(f\"ARGs: {len(ARGs)}\")\n",
    "print(f\"VFs genes: {len(VFGs)}\")"
   ]
  },
  {
   "cell_type": "code",
   "execution_count": 107,
   "id": "9a5a6e4f",
   "metadata": {},
   "outputs": [],
   "source": [
    "import pandas as pd\n",
    "df_down = pd.read_excel(\"df_down.xlsx\")\n",
    "\n",
    "df_down['GName'] = df_down['GName'].astype(str).str.strip()\n",
    "df_vfdown['Gene_Name'] = df_vfdown['Gene_Name'].astype(str).str.strip()\n",
    "df_argdown['Matched Name'] = df_argdown['Matched Name'].astype(str).str.strip().apply(lambda x: x[:1].lower() + x[1:] if x else x)\n",
    "\n",
    "\n",
    "vf_downgenes = set(df_vfdown['Gene_Name'])\n",
    "arg_downgenes = set(df_argdown['Matched Name'])\n",
    "\n",
    "\n",
    "def get_color(gene):\n",
    "    if gene in vf_downgenes:\n",
    "        return \"skyblue,purple\"\n",
    "    elif gene in arg_downgenes:\n",
    "        return \"indianred,blue\"\n",
    "    else:\n",
    "        return \"yellow,deeppink\"\n",
    "\n",
    "df_down['Color'] = df_down['GName'].apply(get_color)"
   ]
  },
  {
   "cell_type": "code",
   "execution_count": 108,
   "id": "289ee16d",
   "metadata": {},
   "outputs": [
    {
     "name": "stdout",
     "output_type": "stream",
     "text": [
      "2\n",
      "9\n"
     ]
    }
   ],
   "source": [
    "print(len(df_down[df_down[\"Color\"] == \"indianred,blue\"]))\n",
    "print(len(df_down[df_down[\"Color\"] == \"skyblue,purple\"]))"
   ]
  },
  {
   "cell_type": "code",
   "execution_count": 109,
   "id": "6876c55f",
   "metadata": {},
   "outputs": [
    {
     "data": {
      "text/plain": [
       "['lmo00010',\n",
       " 'lmo00030',\n",
       " 'lmo00040',\n",
       " 'lmo00051',\n",
       " 'lmo00500',\n",
       " 'lmo00562',\n",
       " 'lmo00710',\n",
       " 'lmo01120',\n",
       " 'lmo01200',\n",
       " 'lmo02060']"
      ]
     },
     "execution_count": 109,
     "metadata": {},
     "output_type": "execute_result"
    }
   ],
   "source": [
    "term_list = []\n",
    "for t in example_02.enrichment_results[\"Term\"]:\n",
    "    term_list.append(t)\n",
    "term_list"
   ]
  },
  {
   "cell_type": "code",
   "execution_count": 49,
   "id": "be6ac756",
   "metadata": {},
   "outputs": [
    {
     "name": "stdout",
     "output_type": "stream",
     "text": [
      "URL lmo00010: http://www.kegg.jp/kegg-bin/show_pathway?lmo00010/default%3dpink//lmo1634%09yellow,deeppink//lmo1017%09yellow,deeppink//lmo1571%09yellow,deeppink/\n",
      "URL lmo00030: http://www.kegg.jp/kegg-bin/show_pathway?lmo00030/default%3dpink//lmo0199%09yellow,deeppink//lmo1978%09yellow,deeppink//lmo1376%09yellow,deeppink//lmo1571%09yellow,deeppink/\n",
      "URL lmo00040: http://www.kegg.jp/kegg-bin/show_pathway?lmo00040/default%3dpink//lmo1078%09yellow,deeppink//lmo1086%09yellow,deeppink/\n",
      "URL lmo00051: http://www.kegg.jp/kegg-bin/show_pathway?lmo00051/default%3dpink//lmo0098%09yellow,deeppink//lmo0097%09yellow,deeppink//lmo0096%09yellow,deeppink//lmo1571%09yellow,deeppink/\n",
      "URL lmo00500: http://www.kegg.jp/kegg-bin/show_pathway?lmo00500/default%3dpink//lmo1078%09yellow,deeppink//lmo1017%09yellow,deeppink/\n",
      "URL lmo00562: http://www.kegg.jp/kegg-bin/show_pathway?lmo00562/default%3dpink//lmo2556%09yellow,deeppink/\n",
      "URL lmo00710: http://www.kegg.jp/kegg-bin/show_pathway?lmo00710/default%3dpink/\n",
      "URL lmo01120: http://www.kegg.jp/kegg-bin/show_pathway?lmo01120/default%3dpink//lmo1555%09yellow,deeppink//lmo2374%09yellow,deeppink//lmo0199%09yellow,deeppink//lmo1557%09yellow,deeppink//lmo1299%09yellow,deeppink//lmo1952%09yellow,deeppink//lmo0238%09yellow,deeppink//lmo1571%09yellow,deeppink//lmo1553%09yellow,deeppink//lmo1556%09yellow,deeppink//lmo2547%09yellow,deeppink//lmo1437%09yellow,deeppink//lmo1554%09yellow,deeppink//lmo1356%09yellow,deeppink//lmo2545%09yellow,deeppink//lmo1634%09yellow,deeppink//lmo1357%09yellow,deeppink//lmo1376%09yellow,deeppink//lmo1072%09yellow,deeppink//lmo1235%09yellow,deeppink//lmo1619%09yellow,deeppink//lmo1360%09yellow,deeppink//lmo1168%09yellow,deeppink//lmo1573%09yellow,deeppink//lmo1917%09yellow,deeppink//lmo1978%09yellow,deeppink//lmo2556%09yellow,deeppink//lmo2825%09yellow,deeppink//lmo2546%09yellow,deeppink/\n",
      "URL lmo01200: http://www.kegg.jp/kegg-bin/show_pathway?lmo01200/default%3dpink//lmo0199%09yellow,deeppink//lmo0238%09yellow,deeppink//lmo1571%09yellow,deeppink//lmo1356%09yellow,deeppink//lmo1991%09yellow,deeppink//lmo1357%09yellow,deeppink//lmo1376%09yellow,deeppink//lmo1072%09yellow,deeppink//lmo1360%09yellow,deeppink//lmo1573%09yellow,deeppink//lmo1168%09yellow,deeppink//lmo1978%09yellow,deeppink//lmo2825%09yellow,deeppink/\n",
      "URL lmo02060: http://www.kegg.jp/kegg-bin/show_pathway?lmo02060/default%3dpink//lmo1017%09yellow,deeppink//lmo0097%09yellow,deeppink//lmo0098%09yellow,deeppink//lmo0096%09yellow,deeppink/\n"
     ]
    }
   ],
   "source": [
    "from ResPathExplorer.URL_pathway import get_url_pathway\n",
    "gene_set = example_02.gene_set\n",
    "\n",
    "for t in term_list:\n",
    "    genes_in_pathway = next(genes for (path_id, _), genes in gene_set.items() if path_id == t)\n",
    "\n",
    "    filtered_gene_color_dict = {\n",
    "        gene: gene_color_dict[gene]\n",
    "        for gene in genes_in_pathway\n",
    "        if gene in gene_color_dict\n",
    "    }\n",
    "    url = get_url_pathway(t, filtered_gene_color_dict)\n",
    "    print(f\"URL {t}:\", url)"
   ]
  },
  {
   "cell_type": "code",
   "execution_count": null,
   "id": "f040b573",
   "metadata": {},
   "outputs": [],
   "source": []
  },
  {
   "cell_type": "markdown",
   "id": "0dcdf9a1",
   "metadata": {},
   "source": [
    "### Profile"
   ]
  },
  {
   "cell_type": "code",
   "execution_count": 110,
   "id": "1ee778d0",
   "metadata": {},
   "outputs": [],
   "source": [
    "uprregulatedpathsnames = set(uprregulatedpaths[\"Pathway name\"])\n",
    "downregulatedpathsnames = set(downregulatedpaths[\"Pathway name\"])"
   ]
  },
  {
   "cell_type": "code",
   "execution_count": 111,
   "id": "d0d3c6fe",
   "metadata": {},
   "outputs": [
    {
     "name": "stdout",
     "output_type": "stream",
     "text": [
      "{\n",
      "  \"upregulated_genes\": {\n",
      "    \"enriched_pathways\": [\"Polyketide sugar unit biosynthesis\", \"beta-Lactam resistance\", \"Nucleotide metabolism\", \"Teichoic acid biosynthesis\", \"Ribosome\", \"RNA polymerase\", \"Aminoacyl-tRNA biosynthesis\", \"Fatty acid biosynthesis\", \"Biosynthesis of various nucleotide sugars\", \"Valine, leucine and isoleucine biosynthesis\", \"Fatty acid metabolism\", \"Terpenoid backbone biosynthesis\", \"Histidine metabolism\"],\n",
      "    \"resistance_genes\": [\"rph\", \"dnaA\", \"rplF\", \"mfd\", \"ileS\", \"rpsJ\"],\n",
      "    \"virulence_genes\": [\"gtcA\", \"lspA\"]\n",
      "  },\n",
      "  \"downregulated_genes\": {\n",
      "    \"enriched_pathways\": [\"Pentose and glucuronate interconversions\", \"Microbial metabolism in diverse environments\", \"Carbon fixation by Calvin cycle\", \"Glycolysis / Gluconeogenesis\", \"Carbon metabolism\", \"Pentose phosphate pathway\", \"Phosphotransferase system (PTS)\", \"Inositol phosphate metabolism\", \"Starch and sucrose metabolism\", \"Fructose and mannose metabolism\"],\n",
      "    \"resistance_genes\": [\"mecA\", \"sepA\"],\n",
      "    \"virulence_genes\": [\"plcA\", \"clpE\", \"prfA\", \"inlB\", \"plcB\", \"inlA\", \"hly\", \"actA\", \"inlC\"]\n",
      "  }\n",
      "}\n"
     ]
    }
   ],
   "source": [
    "import json\n",
    "import re\n",
    "\n",
    "profile_dict = {\n",
    "    \"upregulated_genes\": {\n",
    "        \"enriched_pathways\": [x for x in uprregulatedpathsnames],\n",
    "        \"resistance_genes\": [x for x in arg_upgenes],\n",
    "        \"virulence_genes\": [x for x in vf_upgenes]\n",
    "    },\n",
    "    \"downregulated_genes\": {\n",
    "        \"enriched_pathways\": [x for x in downregulatedpathsnames],\n",
    "        \"resistance_genes\": [x for x in arg_downgenes],\n",
    "        \"virulence_genes\": [x for x in vf_downgenes]\n",
    "    }\n",
    "}\n",
    "\n",
    "json_str = json.dumps(profile_dict, indent=2)\n",
    "json_single_lists = re.sub(r'\\[\\s*(.*?)\\s*\\]', lambda m: '[' + ', '.join(x.strip() for x in m.group(1).split(',')) + ']', json_str, flags=re.DOTALL)\n",
    "\n",
    "print(json_single_lists)"
   ]
  },
  {
   "cell_type": "code",
   "execution_count": null,
   "id": "bb638a18",
   "metadata": {},
   "outputs": [],
   "source": []
  },
  {
   "cell_type": "code",
   "execution_count": null,
   "id": "85c560c1",
   "metadata": {},
   "outputs": [],
   "source": [
    "{\n",
    "  \"upregulated_genes\": {\n",
    "    \"enriched_pathways\": [\"Polyketide sugar unit biosynthesis\", \"beta-Lactam resistance\", \n",
    "                          \"Nucleotide metabolism\", \"Teichoic acid biosynthesis\", \"Ribosome\", \n",
    "                          \"RNA polymerase\", \"Aminoacyl-tRNA biosynthesis\", \"Fatty acid biosynthesis\", \n",
    "                          \"Biosynthesis of various nucleotide sugars\", \"Valine, leucine and isoleucine biosynthesis\", \n",
    "                          \"Fatty acid metabolism\", \"Terpenoid backbone biosynthesis\", \"Histidine metabolism\"],\n",
    "    \"resistance_genes\": [\"rph\", \"dnaA\", \"rplF\", \"mfd\", \"ileS\", \"rpsJ\"],\n",
    "    \"virulence_genes\": [\"gtcA\", \"lspA\"]\n",
    "  },\n",
    "  \"downregulated_genes\": {\n",
    "    \"enriched_pathways\": [\"Pentose and glucuronate interconversions\", \"Microbial metabolism in diverse environments\", \n",
    "                          \"Carbon fixation by Calvin cycle\", \"Glycolysis / Gluconeogenesis\", \"Carbon metabolism\", \n",
    "                          \"Pentose phosphate pathway\", \"Phosphotransferase system (PTS)\", \"Inositol phosphate metabolism\", \n",
    "                          \"Starch and sucrose metabolism\", \"Fructose and mannose metabolism\"],\n",
    "    \"resistance_genes\": [\"mecA\", \"sepA\"],\n",
    "    \"virulence_genes\": [\"plcA\", \"clpE\", \"prfA\", \"inlB\", \"plcB\", \"inlA\", \"hly\", \"actA\", \"inlC\"]\n",
    "  }\n",
    "}"
   ]
  }
 ],
 "metadata": {
  "kernelspec": {
   "display_name": "Python 3 (ipykernel)",
   "language": "python",
   "name": "python3"
  },
  "language_info": {
   "codemirror_mode": {
    "name": "ipython",
    "version": 3
   },
   "file_extension": ".py",
   "mimetype": "text/x-python",
   "name": "python",
   "nbconvert_exporter": "python",
   "pygments_lexer": "ipython3",
   "version": "3.11.5"
  }
 },
 "nbformat": 4,
 "nbformat_minor": 5
}
