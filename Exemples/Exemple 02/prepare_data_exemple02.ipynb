{
 "cells": [
  {
   "cell_type": "markdown",
   "id": "5d624c03",
   "metadata": {},
   "source": [
    "### Exemple 02\n",
    "\n",
    "Establishment and characterization of persistent *Pseudomonas aeruginosa* infections in air–liquid interface cultures of human airway epithelial cells.\n",
    "\n",
    "doi: https://doi.org/10.1128/iai.00603-24\n",
    "\n",
    "**Ref:** Bouheraoua S, Cleeves S, Preusse M, Müsken M, Braubach P, Fuchs M, Falk C, Sewald K, Häussler S. 2025. Establishment and characterization of persistent Pseudomonas aeruginosa infections in air–liquid interface cultures of human airway epithelial cells. Infect Immun 93:e00603-24.\n",
    "https://doi.org/10.1128/iai.00603-24\n",
    "\n",
    "- The exemple was done for the Calu-3 PAO1 Day 5 vs Inoculum\n",
    "\n",
    "Obj: extract background and upregulated genes for functional enrichment analysis"
   ]
  },
  {
   "cell_type": "code",
   "execution_count": 89,
   "id": "eedbd722",
   "metadata": {},
   "outputs": [],
   "source": [
    "## Get the data\n",
    "import pandas as pd\n",
    "df = pd.read_excel(\"iai.00603-24-s0006.xlsx\", sheet_name='Calu-3 PAO1 Day 5 vs Inoculum')"
   ]
  },
  {
   "cell_type": "code",
   "execution_count": 90,
   "id": "5839d76e",
   "metadata": {},
   "outputs": [],
   "source": [
    "new_header = df.iloc[0]\n",
    "\n",
    "df = df[1:]  \n",
    "df.columns = new_header\n",
    "# df"
   ]
  },
  {
   "cell_type": "code",
   "execution_count": 45,
   "id": "fe116aca",
   "metadata": {},
   "outputs": [
    {
     "data": {
      "text/plain": [
       "1469"
      ]
     },
     "execution_count": 45,
     "metadata": {},
     "output_type": "execute_result"
    }
   ],
   "source": [
    "len(df)"
   ]
  },
  {
   "cell_type": "code",
   "execution_count": 91,
   "id": "2fea9b3c",
   "metadata": {},
   "outputs": [
    {
     "data": {
      "text/plain": [
       "0"
      ]
     },
     "execution_count": 91,
     "metadata": {},
     "output_type": "execute_result"
    }
   ],
   "source": [
    "## Check for NAs in Locus Tag == Gene id\n",
    "len(df[df[\"Locus Tag\"].isna()])"
   ]
  },
  {
   "cell_type": "code",
   "execution_count": 47,
   "id": "06e7fb8d",
   "metadata": {},
   "outputs": [
    {
     "data": {
      "text/plain": [
       "0"
      ]
     },
     "execution_count": 47,
     "metadata": {},
     "output_type": "execute_result"
    }
   ],
   "source": [
    "len(df[df[\"Locus Tag\"].duplicated()])"
   ]
  },
  {
   "cell_type": "markdown",
   "id": "1dca3391",
   "metadata": {},
   "source": [
    "#### Background genes\n",
    "\n",
    "All gene detected in the RNA-Seq analysis - without duplicates"
   ]
  },
  {
   "cell_type": "code",
   "execution_count": 92,
   "id": "d22e7337",
   "metadata": {},
   "outputs": [
    {
     "data": {
      "text/plain": [
       "1469"
      ]
     },
     "execution_count": 92,
     "metadata": {},
     "output_type": "execute_result"
    }
   ],
   "source": [
    "genes_background = []\n",
    "for gene in df[\"Locus Tag\"]:\n",
    "    if gene not in genes_background:\n",
    "        genes_background.append(gene)\n",
    "len(genes_background)"
   ]
  },
  {
   "cell_type": "code",
   "execution_count": 93,
   "id": "33f7ce68",
   "metadata": {},
   "outputs": [],
   "source": [
    "with open('background_ex2.txt', 'w') as file:\n",
    "    for gene in genes_background:\n",
    "        file.write(f\"{gene}\\n\")"
   ]
  },
  {
   "cell_type": "code",
   "execution_count": 94,
   "id": "08ae9970",
   "metadata": {},
   "outputs": [
    {
     "name": "stdout",
     "output_type": "stream",
     "text": [
      "1469\n",
      "1469\n"
     ]
    }
   ],
   "source": [
    "print(len(genes_background))\n",
    "with open(\"background_ex2.txt\", \"r\", encoding=\"utf-8\") as f:\n",
    "    lines = f.readlines()\n",
    "print(len(lines))"
   ]
  },
  {
   "cell_type": "markdown",
   "id": "3b7611f1",
   "metadata": {},
   "source": [
    "#### Upregulated genes\n",
    "\n",
    "All genes that log2FC > 1, and FDR < 0.05"
   ]
  },
  {
   "cell_type": "code",
   "execution_count": 95,
   "id": "2921a63d",
   "metadata": {},
   "outputs": [],
   "source": [
    "upregulated = df[(df['log2FC'] > 1) & (df['FDR'] < 0.05)]\n",
    "# upregulated"
   ]
  },
  {
   "cell_type": "code",
   "execution_count": 52,
   "id": "b55d14f8",
   "metadata": {},
   "outputs": [
    {
     "data": {
      "text/plain": [
       "0"
      ]
     },
     "execution_count": 52,
     "metadata": {},
     "output_type": "execute_result"
    }
   ],
   "source": [
    "len(upregulated[upregulated[\"Locus Tag\"].duplicated()])"
   ]
  },
  {
   "cell_type": "code",
   "execution_count": 53,
   "id": "e17df461",
   "metadata": {},
   "outputs": [
    {
     "data": {
      "text/plain": [
       "731"
      ]
     },
     "execution_count": 53,
     "metadata": {},
     "output_type": "execute_result"
    }
   ],
   "source": [
    "upregulated = upregulated.drop_duplicates(subset='Locus Tag')\n",
    "len(upregulated)"
   ]
  },
  {
   "cell_type": "code",
   "execution_count": 54,
   "id": "100d8412",
   "metadata": {},
   "outputs": [],
   "source": [
    "with open('upregulated_ex2.txt', 'w') as file:\n",
    "    for gene in upregulated[\"Locus Tag\"]:\n",
    "        file.write(f\"{gene}\\n\")"
   ]
  },
  {
   "cell_type": "code",
   "execution_count": 55,
   "id": "812857b7",
   "metadata": {},
   "outputs": [
    {
     "name": "stdout",
     "output_type": "stream",
     "text": [
      "731\n",
      "731\n"
     ]
    }
   ],
   "source": [
    "print(len(upregulated))\n",
    "with open(\"upregulated_ex2.txt\", \"r\", encoding=\"utf-8\") as f:\n",
    "    lines = f.readlines()\n",
    "print(len(lines))"
   ]
  },
  {
   "cell_type": "markdown",
   "id": "bc0dc307",
   "metadata": {},
   "source": [
    "##### Upregulated genes name"
   ]
  },
  {
   "cell_type": "code",
   "execution_count": 56,
   "id": "50c1ee5b",
   "metadata": {},
   "outputs": [
    {
     "data": {
      "text/plain": [
       "481"
      ]
     },
     "execution_count": 56,
     "metadata": {},
     "output_type": "execute_result"
    }
   ],
   "source": [
    "len(upregulated[upregulated[\"Gene name\"].isna()])"
   ]
  },
  {
   "cell_type": "code",
   "execution_count": 57,
   "id": "a8e243f7",
   "metadata": {},
   "outputs": [],
   "source": [
    "from ResPathExplorer.mapper_KeggFunctions import get_gene_name_by_kegg_id\n",
    "list_gene_ids = upregulated[upregulated[\"Gene name\"].isna()]['Locus Tag'].tolist()\n",
    "\n",
    "dict_g = {}\n",
    "not_found_list = []\n",
    "\n",
    "for id_g in list_gene_ids:\n",
    "    id_go = \"pae:\" + id_g\n",
    "\n",
    "    try:\n",
    "        name = get_gene_name_by_kegg_id(id_go)\n",
    "\n",
    "        if name:\n",
    "            dict_g[id_g] = name\n",
    "        else:\n",
    "            dict_g[id_g] = \"\"\n",
    "\n",
    "    except Exception as e:\n",
    "        not_found_list.append(id_g)\n",
    "        continue\n"
   ]
  },
  {
   "cell_type": "code",
   "execution_count": 96,
   "id": "49237663",
   "metadata": {},
   "outputs": [],
   "source": [
    "# dict_g"
   ]
  },
  {
   "cell_type": "code",
   "execution_count": 59,
   "id": "b367f77e",
   "metadata": {},
   "outputs": [
    {
     "data": {
      "text/plain": [
       "['PA1427',\n",
       " 'PA0805.1',\n",
       " 'PA1426',\n",
       " 'PA5471.1',\n",
       " 'PA3991',\n",
       " 'PA0852.1',\n",
       " 'PA0708.1',\n",
       " 'PA3218',\n",
       " 'PA0717',\n",
       " 'PA0980',\n",
       " 'PA4028',\n",
       " 'PA3090']"
      ]
     },
     "execution_count": 59,
     "metadata": {},
     "output_type": "execute_result"
    }
   ],
   "source": [
    "not_found_list"
   ]
  },
  {
   "cell_type": "code",
   "execution_count": 61,
   "id": "dc178482",
   "metadata": {},
   "outputs": [
    {
     "data": {
      "text/plain": [
       "{}"
      ]
     },
     "execution_count": 61,
     "metadata": {},
     "output_type": "execute_result"
    }
   ],
   "source": [
    "filtered_dict_g = {k: v for k, v in dict_g.items() if v != \"\"}\n",
    "filtered_dict_g"
   ]
  },
  {
   "cell_type": "code",
   "execution_count": 62,
   "id": "f4826c6a",
   "metadata": {},
   "outputs": [],
   "source": [
    "upregulated['Gene name'] = upregulated.apply(\n",
    "    lambda row: filtered_dict_g[row['Locus Tag']] if row['Locus Tag'] in filtered_dict_g else row['Gene name'],\n",
    "    axis=1)"
   ]
  },
  {
   "cell_type": "code",
   "execution_count": 83,
   "id": "c47525aa",
   "metadata": {},
   "outputs": [],
   "source": [
    "upregulated.to_excel(\"df_genesup.xlsx\")"
   ]
  },
  {
   "cell_type": "code",
   "execution_count": 65,
   "id": "8459ec4d",
   "metadata": {},
   "outputs": [
    {
     "data": {
      "text/plain": [
       "250"
      ]
     },
     "execution_count": 65,
     "metadata": {},
     "output_type": "execute_result"
    }
   ],
   "source": [
    "gene_list = upregulated['Gene name'].dropna().unique().tolist()\n",
    "len(gene_list)"
   ]
  },
  {
   "cell_type": "code",
   "execution_count": 66,
   "id": "e18af2dc",
   "metadata": {},
   "outputs": [],
   "source": [
    "with open('upregulatedGName_ex2.txt', 'w') as file:\n",
    "    for gene in gene_list:\n",
    "        file.write(f\"{gene}\\n\")"
   ]
  },
  {
   "cell_type": "code",
   "execution_count": 67,
   "id": "f64e9a2a",
   "metadata": {},
   "outputs": [
    {
     "name": "stdout",
     "output_type": "stream",
     "text": [
      "250\n"
     ]
    }
   ],
   "source": [
    "with open(\"upregulatedGName_ex2.txt\", \"r\", encoding=\"utf-8\") as f:\n",
    "    lines = f.readlines()\n",
    "print(len(lines))"
   ]
  },
  {
   "cell_type": "markdown",
   "id": "337d99ce",
   "metadata": {},
   "source": [
    "#### Downreulated genes\n",
    "\n",
    "All genes that log2FC < -1, and FDR < 0.05"
   ]
  },
  {
   "cell_type": "code",
   "execution_count": 97,
   "id": "8a0ca7f3",
   "metadata": {},
   "outputs": [],
   "source": [
    "downregulated = df[(df['log2FC'] < -1) & (df['FDR'] < 0.05)]\n",
    "# downregulated"
   ]
  },
  {
   "cell_type": "code",
   "execution_count": 69,
   "id": "202aa739",
   "metadata": {},
   "outputs": [
    {
     "data": {
      "text/plain": [
       "0"
      ]
     },
     "execution_count": 69,
     "metadata": {},
     "output_type": "execute_result"
    }
   ],
   "source": [
    "len(downregulated[downregulated[\"Locus Tag\"].duplicated()])"
   ]
  },
  {
   "cell_type": "code",
   "execution_count": 70,
   "id": "c8990fcc",
   "metadata": {},
   "outputs": [
    {
     "data": {
      "text/plain": [
       "694"
      ]
     },
     "execution_count": 70,
     "metadata": {},
     "output_type": "execute_result"
    }
   ],
   "source": [
    "downregulated = downregulated.drop_duplicates(subset='Locus Tag')\n",
    "len(downregulated)"
   ]
  },
  {
   "cell_type": "code",
   "execution_count": 71,
   "id": "12d682e3",
   "metadata": {},
   "outputs": [],
   "source": [
    "with open('downregulated_ex2.txt', 'w') as file:\n",
    "    for gene in downregulated[\"Locus Tag\"]:\n",
    "        file.write(f\"{gene}\\n\")"
   ]
  },
  {
   "cell_type": "code",
   "execution_count": 72,
   "id": "bd955614",
   "metadata": {},
   "outputs": [
    {
     "name": "stdout",
     "output_type": "stream",
     "text": [
      "694\n",
      "694\n"
     ]
    }
   ],
   "source": [
    "print(len(downregulated))\n",
    "with open(\"downregulated_ex2.txt\", \"r\", encoding=\"utf-8\") as f:\n",
    "    lines = f.readlines()\n",
    "print(len(lines))"
   ]
  },
  {
   "cell_type": "markdown",
   "id": "a05617b0",
   "metadata": {},
   "source": [
    "#### Downregulated genes names"
   ]
  },
  {
   "cell_type": "code",
   "execution_count": 73,
   "id": "40e60e51",
   "metadata": {},
   "outputs": [
    {
     "data": {
      "text/plain": [
       "299"
      ]
     },
     "execution_count": 73,
     "metadata": {},
     "output_type": "execute_result"
    }
   ],
   "source": [
    "len(downregulated[downregulated[\"Gene name\"].isna()])"
   ]
  },
  {
   "cell_type": "code",
   "execution_count": 74,
   "id": "080bb318",
   "metadata": {},
   "outputs": [],
   "source": [
    "list_gene_ids = downregulated[downregulated[\"Gene name\"].isna()]['Locus Tag'].tolist()\n",
    "\n",
    "dict_g = {}\n",
    "not_found_list = []\n",
    "\n",
    "for id_g in list_gene_ids:\n",
    "    id_go = \"pae:\" + id_g\n",
    "\n",
    "    try:\n",
    "        name = get_gene_name_by_kegg_id(id_go)\n",
    "\n",
    "        if name:\n",
    "            dict_g[id_g] = name\n",
    "        else:\n",
    "            dict_g[id_g] = \"\"\n",
    "\n",
    "    except Exception as e:\n",
    "        not_found_list.append(id_g)\n",
    "        continue"
   ]
  },
  {
   "cell_type": "code",
   "execution_count": 98,
   "id": "aed01cba",
   "metadata": {},
   "outputs": [],
   "source": [
    "# dict_g"
   ]
  },
  {
   "cell_type": "code",
   "execution_count": 76,
   "id": "01a87a30",
   "metadata": {},
   "outputs": [
    {
     "data": {
      "text/plain": [
       "{'PA4389': 'speA'}"
      ]
     },
     "execution_count": 76,
     "metadata": {},
     "output_type": "execute_result"
    }
   ],
   "source": [
    "filtered_dict_g = {k: v for k, v in dict_g.items() if v != \"\"}\n",
    "filtered_dict_g"
   ]
  },
  {
   "cell_type": "code",
   "execution_count": 77,
   "id": "4e19f318",
   "metadata": {},
   "outputs": [],
   "source": [
    "downregulated['Gene name'] = downregulated.apply(\n",
    "    lambda row: filtered_dict_g[row['Locus Tag']] if row['Locus Tag'] in filtered_dict_g else row['Gene name'],\n",
    "    axis=1)"
   ]
  },
  {
   "cell_type": "code",
   "execution_count": 78,
   "id": "8ba6f310",
   "metadata": {},
   "outputs": [
    {
     "data": {
      "text/plain": [
       "396"
      ]
     },
     "execution_count": 78,
     "metadata": {},
     "output_type": "execute_result"
    }
   ],
   "source": [
    "gene_list = downregulated['Gene name'].dropna().unique().tolist()\n",
    "len(gene_list)"
   ]
  },
  {
   "cell_type": "code",
   "execution_count": 79,
   "id": "8360b99b",
   "metadata": {},
   "outputs": [],
   "source": [
    "with open('downregulatedGName_ex2.txt', 'w') as file:\n",
    "    for gene in gene_list:\n",
    "        file.write(f\"{gene}\\n\")"
   ]
  },
  {
   "cell_type": "code",
   "execution_count": 80,
   "id": "7b1d5536",
   "metadata": {},
   "outputs": [
    {
     "name": "stdout",
     "output_type": "stream",
     "text": [
      "396\n"
     ]
    }
   ],
   "source": [
    "with open(\"downregulatedGName_ex2.txt\", \"r\", encoding=\"utf-8\") as f:\n",
    "    lines = f.readlines()\n",
    "print(len(lines))"
   ]
  },
  {
   "cell_type": "code",
   "execution_count": 84,
   "id": "0e659797",
   "metadata": {},
   "outputs": [],
   "source": [
    "downregulated.to_excel(\"df_genesdown.xlsx\")"
   ]
  }
 ],
 "metadata": {
  "kernelspec": {
   "display_name": "Python 3 (ipykernel)",
   "language": "python",
   "name": "python3"
  },
  "language_info": {
   "codemirror_mode": {
    "name": "ipython",
    "version": 3
   },
   "file_extension": ".py",
   "mimetype": "text/x-python",
   "name": "python",
   "nbconvert_exporter": "python",
   "pygments_lexer": "ipython3",
   "version": "3.11.5"
  }
 },
 "nbformat": 4,
 "nbformat_minor": 5
}
