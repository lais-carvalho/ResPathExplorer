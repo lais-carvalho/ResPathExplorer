{
 "cells": [
  {
   "cell_type": "markdown",
   "id": "8d17bbba",
   "metadata": {},
   "source": [
    "### Exemple 01\n",
    "\n",
    "Comparative Analysis of Transcriptomic Response of *Escherichia coli* K-12 MG1655 to Nine Representative Classes of Antibiotics\n",
    "\n",
    "doi: 10.1128/spectrum.00317-23\n",
    "\n",
    "**Ref:** Bie L, Zhang M, Wang J, Fang M, Li L, Xu H, Wang M. Comparative Analysis of Transcriptomic Response of Escherichia coli K-12 MG1655 to Nine Representative Classes of Antibiotics. Microbiol Spectr. 2023 Feb 28;11(2):e0031723. doi: 10.1128/spectrum.00317-23. Epub ahead of print. PMID: 36853057; PMCID: PMC10100721.\n",
    "\n",
    "- The exemple was done just for the IPM antibiotic\n",
    "\n",
    "Obj: extract background and upregulated genes for functional enrichment analysis"
   ]
  },
  {
   "cell_type": "code",
   "execution_count": 1,
   "id": "449d5a34",
   "metadata": {},
   "outputs": [],
   "source": [
    "import pandas as pd"
   ]
  },
  {
   "cell_type": "code",
   "execution_count": 5,
   "id": "45253b04",
   "metadata": {},
   "outputs": [],
   "source": [
    "#Get the data\n",
    "df = pd.read_excel(\"spectrum.00317-23-s0002.xlsx\")"
   ]
  },
  {
   "cell_type": "code",
   "execution_count": 30,
   "id": "3e57fc13",
   "metadata": {},
   "outputs": [],
   "source": [
    "new_header = df.iloc[0]\n",
    "\n",
    "df = df[1:]  \n",
    "df.columns = new_header\n",
    "# df"
   ]
  },
  {
   "cell_type": "code",
   "execution_count": 31,
   "id": "36664683",
   "metadata": {},
   "outputs": [],
   "source": [
    "#select the columns of interest\n",
    "columns_to_keep = ['Gene_id',\n",
    "    'IPM_readcount(IPMvsH2O)',\n",
    "    'H2O_readcount(IPMvsH2O)',\n",
    "    'log2FoldChange(IPMvsH2O)',\n",
    "    'pval(IPMvsH2O)',\n",
    "    'padj(IPMvsH2O)',\n",
    "    'significant(IPMvsH2O)',\n",
    "    'Genename'\n",
    "]\n",
    "\n",
    "# dff"
   ]
  },
  {
   "cell_type": "markdown",
   "id": "35450999",
   "metadata": {},
   "source": [
    "#### Backgraound genes\n",
    "\n",
    "All genes expressed  (readcounts > 1)"
   ]
  },
  {
   "cell_type": "code",
   "execution_count": 8,
   "id": "9b02c1fd",
   "metadata": {},
   "outputs": [
    {
     "data": {
      "text/plain": [
       "4164"
      ]
     },
     "execution_count": 8,
     "metadata": {},
     "output_type": "execute_result"
    }
   ],
   "source": [
    "#Select expressed genes for background\n",
    "dff_background = dff[dff['IPM_readcount(IPMvsH2O)'] >= 1]\n",
    "dff_background = dff_background.dropna()\n",
    "len(dff_background)"
   ]
  },
  {
   "cell_type": "code",
   "execution_count": 9,
   "id": "1f4e41a0",
   "metadata": {},
   "outputs": [],
   "source": [
    "# Background formulation\n",
    "background = []\n",
    "for g in dff_background[\"Gene_id\"]:\n",
    "    if g not in background:\n",
    "        background.append(g)\n",
    "\n",
    "with open('background_ex1.txt', 'w') as file:\n",
    "    for gene in background:\n",
    "        file.write(f\"{gene}\\n\")"
   ]
  },
  {
   "cell_type": "code",
   "execution_count": 10,
   "id": "c120ecf5",
   "metadata": {},
   "outputs": [
    {
     "name": "stdout",
     "output_type": "stream",
     "text": [
      "4164\n",
      "4164\n"
     ]
    }
   ],
   "source": [
    "print(len(dff_background[\"Gene_id\"]))\n",
    "with open(\"background_ex1.txt\", \"r\", encoding=\"utf-8\") as f:\n",
    "    lines = f.readlines()\n",
    "print(len(lines))"
   ]
  },
  {
   "cell_type": "markdown",
   "id": "080f866e",
   "metadata": {},
   "source": [
    "#### Upregulated genes (genes of interest)\n",
    "\n",
    "In the data presented in the article, genes are classified based on significance as follows: UP (when log2 fold change is at least 1), DOWN (when log2 fold change is at most -1), FALSE (when the gene does not meet the thresholds for upregulation or downregulation), and NA (when data is missing or annotation failed due to an error)."
   ]
  },
  {
   "cell_type": "code",
   "execution_count": 32,
   "id": "aa4b0f0e",
   "metadata": {},
   "outputs": [],
   "source": [
    "df_up = dff[dff['significant(IPMvsH2O)'] == 'UP'][['Gene_id', 'Genename', 'significant(IPMvsH2O)']]\n",
    "# df_up"
   ]
  },
  {
   "cell_type": "code",
   "execution_count": 12,
   "id": "d0f39f11",
   "metadata": {},
   "outputs": [
    {
     "data": {
      "text/plain": [
       "7"
      ]
     },
     "execution_count": 12,
     "metadata": {},
     "output_type": "execute_result"
    }
   ],
   "source": [
    "len(df_up[df_up[\"Genename\"] == \"--\"])"
   ]
  },
  {
   "cell_type": "code",
   "execution_count": 13,
   "id": "3a0a3d33",
   "metadata": {},
   "outputs": [],
   "source": [
    "#need to install ResPathExplorer: !pip install git+https://github.com/lais-carvalho/ResPathExplorer.git\n",
    "from ResPathExplorer.mapper_KeggFunctions import get_gene_name_by_kegg_id"
   ]
  },
  {
   "cell_type": "code",
   "execution_count": 14,
   "id": "2bcd64b5",
   "metadata": {},
   "outputs": [],
   "source": [
    "list_gene_ids = df_up[df_up['Genename'] == '--']['Gene_id'].tolist()\n",
    "dict_g = {}\n",
    "not_found_list = []\n",
    "\n",
    "for id_g in list_gene_ids:\n",
    "    id_go = \"eco:\" + id_g\n",
    "\n",
    "    try:\n",
    "        name = get_gene_name_by_kegg_id(id_go)\n",
    "\n",
    "        if name:\n",
    "            dict_g[id_g] = name\n",
    "        else:\n",
    "            dict_g[id_g] = \"\"\n",
    "\n",
    "    except Exception as e:\n",
    "        not_found_list.append(id_g) \n",
    "        continue"
   ]
  },
  {
   "cell_type": "code",
   "execution_count": 15,
   "id": "0c208db9",
   "metadata": {},
   "outputs": [
    {
     "data": {
      "text/plain": [
       "7"
      ]
     },
     "execution_count": 15,
     "metadata": {},
     "output_type": "execute_result"
    }
   ],
   "source": [
    "len(dict_g)"
   ]
  },
  {
   "cell_type": "code",
   "execution_count": 16,
   "id": "c59688a3",
   "metadata": {},
   "outputs": [
    {
     "data": {
      "text/plain": [
       "[]"
      ]
     },
     "execution_count": 16,
     "metadata": {},
     "output_type": "execute_result"
    }
   ],
   "source": [
    "not_found_list"
   ]
  },
  {
   "cell_type": "code",
   "execution_count": 17,
   "id": "f69f2fd5",
   "metadata": {},
   "outputs": [
    {
     "data": {
      "text/plain": [
       "[]"
      ]
     },
     "execution_count": 17,
     "metadata": {},
     "output_type": "execute_result"
    }
   ],
   "source": [
    "keys_with_empty_values = [k for k, v in dict_g.items() if v == \"\"]\n",
    "keys_with_empty_values"
   ]
  },
  {
   "cell_type": "code",
   "execution_count": 18,
   "id": "e194450b",
   "metadata": {},
   "outputs": [],
   "source": [
    "#Upregulated genes\n",
    "upregulated = []\n",
    "for g in df_up[\"Gene_id\"]:\n",
    "    if g not in upregulated:\n",
    "        upregulated.append(g)\n",
    "\n",
    "with open('upregulated_ex1.txt', 'w') as file:\n",
    "    for gene in upregulated:\n",
    "        file.write(f\"{gene}\\n\")"
   ]
  },
  {
   "cell_type": "code",
   "execution_count": 19,
   "id": "717c3132",
   "metadata": {},
   "outputs": [
    {
     "name": "stdout",
     "output_type": "stream",
     "text": [
      "589\n",
      "589\n"
     ]
    }
   ],
   "source": [
    "print(len(df_up[\"Gene_id\"]))\n",
    "with open(\"upregulated_ex1.txt\", \"r\", encoding=\"utf-8\") as f:\n",
    "    lines = f.readlines()\n",
    "print(len(lines))"
   ]
  },
  {
   "cell_type": "markdown",
   "id": "959daf49",
   "metadata": {},
   "source": [
    "#### Get upregulated (genes of interest) gene names\n",
    "\n",
    "For the CARDAnalysis and VFDBAnalysis, only genes with a registered name in the KEGG database were selected. Genes lacking an official gene name were excluded, even if they had a KEGG gene ID."
   ]
  },
  {
   "cell_type": "code",
   "execution_count": 20,
   "id": "b30fbb61",
   "metadata": {},
   "outputs": [],
   "source": [
    "df_upf = df_up.copy()\n",
    "mask = df_upf['Genename'] == '--'\n",
    "df_upf.loc[mask, 'Genename'] = df_upf.loc[mask, 'Gene_id'].map(dict_g)"
   ]
  },
  {
   "cell_type": "code",
   "execution_count": 21,
   "id": "e80f11d7",
   "metadata": {},
   "outputs": [],
   "source": [
    "mask = df_upf['Genename'].isna()\n",
    "df_upf.loc[mask, 'Genename'] = df_upf.loc[mask, 'Gene_id']"
   ]
  },
  {
   "cell_type": "code",
   "execution_count": 22,
   "id": "dac9da63",
   "metadata": {},
   "outputs": [],
   "source": [
    "for d in df_upf[df_upf['Genename'].duplicated(keep=False)][\"Gene_id\"]:\n",
    "    id_g = \"eco:\" + d\n",
    "    name = get_gene_name_by_kegg_id(id_g)\n",
    "    df_upf.loc[df_upf['Gene_id'] == d, 'Genename'] = name"
   ]
  },
  {
   "cell_type": "code",
   "execution_count": 23,
   "id": "14c74941",
   "metadata": {},
   "outputs": [
    {
     "data": {
      "text/html": [
       "<div>\n",
       "<style scoped>\n",
       "    .dataframe tbody tr th:only-of-type {\n",
       "        vertical-align: middle;\n",
       "    }\n",
       "\n",
       "    .dataframe tbody tr th {\n",
       "        vertical-align: top;\n",
       "    }\n",
       "\n",
       "    .dataframe thead th {\n",
       "        text-align: right;\n",
       "    }\n",
       "</style>\n",
       "<table border=\"1\" class=\"dataframe\">\n",
       "  <thead>\n",
       "    <tr style=\"text-align: right;\">\n",
       "      <th></th>\n",
       "      <th>Gene_id</th>\n",
       "      <th>Genename</th>\n",
       "      <th>significant(IPMvsH2O)</th>\n",
       "    </tr>\n",
       "  </thead>\n",
       "  <tbody>\n",
       "  </tbody>\n",
       "</table>\n",
       "</div>"
      ],
      "text/plain": [
       "Empty DataFrame\n",
       "Columns: [Gene_id, Genename, significant(IPMvsH2O)]\n",
       "Index: []"
      ]
     },
     "execution_count": 23,
     "metadata": {},
     "output_type": "execute_result"
    }
   ],
   "source": [
    "df_upf[df_upf['Genename'].duplicated(keep=False)]"
   ]
  },
  {
   "cell_type": "code",
   "execution_count": 24,
   "id": "3549ad17",
   "metadata": {},
   "outputs": [],
   "source": [
    "upregulated_GNames = []\n",
    "for g in df_upf[\"Genename\"]:\n",
    "    if g not in upregulated_GNames:\n",
    "        upregulated_GNames.append(g)\n",
    "\n",
    "with open('upregulated_GNames_ex1.txt', 'w') as file:\n",
    "    for gene in upregulated_GNames:\n",
    "        file.write(f\"{gene}\\n\")"
   ]
  },
  {
   "cell_type": "code",
   "execution_count": 25,
   "id": "0797801f",
   "metadata": {},
   "outputs": [
    {
     "name": "stdout",
     "output_type": "stream",
     "text": [
      "589\n",
      "589\n"
     ]
    }
   ],
   "source": [
    "print(len(df_upf[\"Genename\"]))\n",
    "with open(\"upregulated_GNames_ex1.txt\", \"r\", encoding=\"utf-8\") as f:\n",
    "    lines = f.readlines()\n",
    "print(len(lines))"
   ]
  },
  {
   "cell_type": "code",
   "execution_count": 29,
   "id": "3ef4a4f7",
   "metadata": {},
   "outputs": [],
   "source": [
    "df_upf.to_excel(\"genenames.xlsx\")"
   ]
  }
 ],
 "metadata": {
  "kernelspec": {
   "display_name": "Python 3 (ipykernel)",
   "language": "python",
   "name": "python3"
  },
  "language_info": {
   "codemirror_mode": {
    "name": "ipython",
    "version": 3
   },
   "file_extension": ".py",
   "mimetype": "text/x-python",
   "name": "python",
   "nbconvert_exporter": "python",
   "pygments_lexer": "ipython3",
   "version": "3.11.5"
  }
 },
 "nbformat": 4,
 "nbformat_minor": 5
}
