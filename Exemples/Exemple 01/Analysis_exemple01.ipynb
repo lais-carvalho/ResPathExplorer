{
 "cells": [
  {
   "cell_type": "markdown",
   "id": "16151a07",
   "metadata": {},
   "source": [
    "### Exemple 01\n",
    "\n",
    "Comparative Analysis of Transcriptomic Response of *Escherichia coli* K-12 MG1655 to Nine Representative Classes of Antibiotics\n",
    "\n",
    "doi: 10.1128/spectrum.00317-23\n",
    "\n",
    "Ref: Bie L, Zhang M, Wang J, Fang M, Li L, Xu H, Wang M. Comparative Analysis of Transcriptomic Response of Escherichia coli K-12 MG1655 to Nine Representative Classes of Antibiotics. Microbiol Spectr. 2023 Feb 28;11(2):e0031723. doi: 10.1128/spectrum.00317-23. Epub ahead of print. PMID: 36853057; PMCID: PMC10100721.\n",
    "\n",
    "- The exemple was done just for the IPM antibiotic\n",
    "\n",
    "Obj: extract background and upregulated genes for functional enrichment analysis"
   ]
  },
  {
   "cell_type": "code",
   "execution_count": 146,
   "id": "817384a6",
   "metadata": {},
   "outputs": [],
   "source": [
    "# !pip install git+https://github.com/lais-carvalho/ResPathExplorer.git"
   ]
  },
  {
   "cell_type": "code",
   "execution_count": 147,
   "id": "1373163a",
   "metadata": {},
   "outputs": [
    {
     "data": {
      "text/plain": [
       "['CARDAnalysis.py',\n",
       " 'KeggAnalysis.py',\n",
       " 'mapper_KeggFunctions.py',\n",
       " 'rename_file.py',\n",
       " 'save_df_as_html.py',\n",
       " 'URL_pathway.py',\n",
       " 'validate_color_code.py',\n",
       " 'VFDBAnalysis.py',\n",
       " '__init__.py',\n",
       " '__pycache__']"
      ]
     },
     "execution_count": 147,
     "metadata": {},
     "output_type": "execute_result"
    }
   ],
   "source": [
    "## Check the installation\n",
    "import os\n",
    "os.listdir(r'D:\\Programas\\Lib\\site-packages\\ResPathExplorer')"
   ]
  },
  {
   "cell_type": "markdown",
   "id": "b5d0ab96",
   "metadata": {},
   "source": [
    "#### KeggAnalysis"
   ]
  },
  {
   "cell_type": "code",
   "execution_count": 3,
   "id": "87f9a039",
   "metadata": {},
   "outputs": [],
   "source": [
    "from ResPathExplorer.KeggAnalysis import KeggAnalysis\n",
    "organism = \"Escherichia coli K-12 MG1655\" #organism name\n",
    "GMT_file = \"exemple_01.gmt\" #GMT file name\n",
    "exemple_01 = KeggAnalysis(organism_name = organism, file_name_gmt= GMT_file, use_existing_gmt = True)"
   ]
  },
  {
   "cell_type": "code",
   "execution_count": 4,
   "id": "e065c4ec",
   "metadata": {},
   "outputs": [
    {
     "name": "stdout",
     "output_type": "stream",
     "text": [
      "eco\n",
      "Escherichia coli K-12 MG1655\n"
     ]
    }
   ],
   "source": [
    "print(exemple_01.org)\n",
    "print(exemple_01.organism)"
   ]
  },
  {
   "cell_type": "code",
   "execution_count": 148,
   "id": "b63f6e98",
   "metadata": {},
   "outputs": [],
   "source": [
    "# exemple_01.gene_set"
   ]
  },
  {
   "cell_type": "code",
   "execution_count": 6,
   "id": "3867e032",
   "metadata": {},
   "outputs": [
    {
     "data": {
      "text/plain": [
       "589"
      ]
     },
     "execution_count": 6,
     "metadata": {},
     "output_type": "execute_result"
    }
   ],
   "source": [
    "with open('upregulated_ex1.txt', 'r') as file:\n",
    "    upregulated = [line.strip() for line in file if line.strip()]\n",
    "len(upregulated)"
   ]
  },
  {
   "cell_type": "code",
   "execution_count": 7,
   "id": "3efdcb29",
   "metadata": {},
   "outputs": [
    {
     "data": {
      "text/plain": [
       "4164"
      ]
     },
     "execution_count": 7,
     "metadata": {},
     "output_type": "execute_result"
    }
   ],
   "source": [
    "with open('background_ex1.txt', 'r') as file:\n",
    "    background = [line.strip() for line in file if line.strip()]\n",
    "len(background)"
   ]
  },
  {
   "cell_type": "code",
   "execution_count": 8,
   "id": "c99c7fa4",
   "metadata": {},
   "outputs": [
    {
     "name": "stdout",
     "output_type": "stream",
     "text": [
      "✅ File renamed to: enrichment_exemple01.txt\n",
      "✅ File renamed to: enrichment_exemple01.pdf\n"
     ]
    }
   ],
   "source": [
    "exemple_01.enrichment_analysis(gene_list = upregulated,\n",
    "            cutoff = 0.05,\n",
    "            name_outdir = \"enrichment_exemple01\",\n",
    "            number_path = 10,\n",
    "            name_results_file = \"enrichment_exemple01\",\n",
    "            genes_background = background)"
   ]
  },
  {
   "cell_type": "code",
   "execution_count": 9,
   "id": "163ca82c",
   "metadata": {},
   "outputs": [
    {
     "data": {
      "text/html": [
       "<div>\n",
       "<style scoped>\n",
       "    .dataframe tbody tr th:only-of-type {\n",
       "        vertical-align: middle;\n",
       "    }\n",
       "\n",
       "    .dataframe tbody tr th {\n",
       "        vertical-align: top;\n",
       "    }\n",
       "\n",
       "    .dataframe thead th {\n",
       "        text-align: right;\n",
       "    }\n",
       "</style>\n",
       "<table border=\"1\" class=\"dataframe\">\n",
       "  <thead>\n",
       "    <tr style=\"text-align: right;\">\n",
       "      <th></th>\n",
       "      <th>Gene_set</th>\n",
       "      <th>Term</th>\n",
       "      <th>Overlap</th>\n",
       "      <th>P-value</th>\n",
       "      <th>Adjusted P-value</th>\n",
       "      <th>Odds Ratio</th>\n",
       "      <th>Combined Score</th>\n",
       "      <th>Genes</th>\n",
       "      <th>Pathway name</th>\n",
       "    </tr>\n",
       "  </thead>\n",
       "  <tbody>\n",
       "    <tr>\n",
       "      <th>10</th>\n",
       "      <td>exemple_01.gmt</td>\n",
       "      <td>eco00230</td>\n",
       "      <td>26/77</td>\n",
       "      <td>9.192596e-06</td>\n",
       "      <td>4.090705e-04</td>\n",
       "      <td>3.218416</td>\n",
       "      <td>37.324337</td>\n",
       "      <td>b4394;b0474;b1207;b2499;b3399;b2954;b1849;b251...</td>\n",
       "      <td>Purine metabolism</td>\n",
       "    </tr>\n",
       "    <tr>\n",
       "      <th>29</th>\n",
       "      <td>exemple_01.gmt</td>\n",
       "      <td>eco00550</td>\n",
       "      <td>10/26</td>\n",
       "      <td>1.860353e-03</td>\n",
       "      <td>3.311429e-02</td>\n",
       "      <td>3.908777</td>\n",
       "      <td>24.574438</td>\n",
       "      <td>b2519;b0088;b3972;b0632;b3182;b0841;b2010;b063...</td>\n",
       "      <td>Peptidoglycan biosynthesis</td>\n",
       "    </tr>\n",
       "    <tr>\n",
       "      <th>66</th>\n",
       "      <td>exemple_01.gmt</td>\n",
       "      <td>eco01240</td>\n",
       "      <td>37/143</td>\n",
       "      <td>1.180626e-04</td>\n",
       "      <td>3.502523e-03</td>\n",
       "      <td>2.211140</td>\n",
       "      <td>19.998205</td>\n",
       "      <td>b0776;b0474;b1210;b1062;b0844;b3974;b2765;b093...</td>\n",
       "      <td>Biosynthesis of cofactors</td>\n",
       "    </tr>\n",
       "    <tr>\n",
       "      <th>76</th>\n",
       "      <td>exemple_01.gmt</td>\n",
       "      <td>eco03010</td>\n",
       "      <td>34/56</td>\n",
       "      <td>5.627619e-16</td>\n",
       "      <td>5.008580e-14</td>\n",
       "      <td>9.808641</td>\n",
       "      <td>344.417429</td>\n",
       "      <td>b0296;b3636;b4200;b3320;b3230;b3065;b3321;b398...</td>\n",
       "      <td>Ribosome</td>\n",
       "    </tr>\n",
       "    <tr>\n",
       "      <th>87</th>\n",
       "      <td>exemple_01.gmt</td>\n",
       "      <td>eco04122</td>\n",
       "      <td>8/18</td>\n",
       "      <td>1.804907e-03</td>\n",
       "      <td>3.311429e-02</td>\n",
       "      <td>4.963641</td>\n",
       "      <td>31.356542</td>\n",
       "      <td>b3345;b0423;b1133;b2530;b0781;b3470;b3344;b0969</td>\n",
       "      <td>Sulfur relay system</td>\n",
       "    </tr>\n",
       "  </tbody>\n",
       "</table>\n",
       "</div>"
      ],
      "text/plain": [
       "          Gene_set      Term Overlap       P-value  Adjusted P-value  \\\n",
       "10  exemple_01.gmt  eco00230   26/77  9.192596e-06      4.090705e-04   \n",
       "29  exemple_01.gmt  eco00550   10/26  1.860353e-03      3.311429e-02   \n",
       "66  exemple_01.gmt  eco01240  37/143  1.180626e-04      3.502523e-03   \n",
       "76  exemple_01.gmt  eco03010   34/56  5.627619e-16      5.008580e-14   \n",
       "87  exemple_01.gmt  eco04122    8/18  1.804907e-03      3.311429e-02   \n",
       "\n",
       "    Odds Ratio  Combined Score  \\\n",
       "10    3.218416       37.324337   \n",
       "29    3.908777       24.574438   \n",
       "66    2.211140       19.998205   \n",
       "76    9.808641      344.417429   \n",
       "87    4.963641       31.356542   \n",
       "\n",
       "                                                Genes  \\\n",
       "10  b4394;b0474;b1207;b2499;b3399;b2954;b1849;b251...   \n",
       "29  b2519;b0088;b3972;b0632;b3182;b0841;b2010;b063...   \n",
       "66  b0776;b0474;b1210;b1062;b0844;b3974;b2765;b093...   \n",
       "76  b0296;b3636;b4200;b3320;b3230;b3065;b3321;b398...   \n",
       "87    b3345;b0423;b1133;b2530;b0781;b3470;b3344;b0969   \n",
       "\n",
       "                  Pathway name  \n",
       "10           Purine metabolism  \n",
       "29  Peptidoglycan biosynthesis  \n",
       "66   Biosynthesis of cofactors  \n",
       "76                    Ribosome  \n",
       "87         Sulfur relay system  "
      ]
     },
     "execution_count": 9,
     "metadata": {},
     "output_type": "execute_result"
    }
   ],
   "source": [
    "exemple_01.enrichment_results"
   ]
  },
  {
   "cell_type": "code",
   "execution_count": 10,
   "id": "40a3be70",
   "metadata": {},
   "outputs": [
    {
     "data": {
      "image/png": "[encoded data removed]",
      "text/plain": [
       "<Figure size 1200x800 with 2 Axes>"
      ]
     },
     "metadata": {},
     "output_type": "display_data"
    }
   ],
   "source": [
    "exemple_01.visualize_enrichment_results(name_outdir = \"enrichment_exemple01\",\n",
    "            outplot_file_name = \"enrichment_exemple01\",\n",
    "            plot_title = \"Gene set enrichment analysis\",\n",
    "            plot_type = \"barplot\")"
   ]
  },
  {
   "cell_type": "markdown",
   "id": "c27001ab",
   "metadata": {},
   "source": [
    "#### CARDAnalysis"
   ]
  },
  {
   "cell_type": "code",
   "execution_count": 39,
   "id": "4b8bee22",
   "metadata": {},
   "outputs": [
    {
     "data": {
      "text/plain": [
       "589"
      ]
     },
     "execution_count": 39,
     "metadata": {},
     "output_type": "execute_result"
    }
   ],
   "source": [
    "with open('upregulated_GNames_ex1.txt', 'r') as file:\n",
    "    genes = [line.strip() for line in file if line.strip()]\n",
    "len(genes)"
   ]
  },
  {
   "cell_type": "code",
   "execution_count": 40,
   "id": "7d08bd88",
   "metadata": {},
   "outputs": [],
   "source": [
    "from ResPathExplorer.CARDAnalysis import CARDAnalysis\n",
    "exemple_01AG = CARDAnalysis(genes_list = genes, has_CARDdata = True)"
   ]
  },
  {
   "cell_type": "code",
   "execution_count": 42,
   "id": "da68074e",
   "metadata": {},
   "outputs": [],
   "source": [
    "df = exemple_01AG.ARGdf"
   ]
  },
  {
   "cell_type": "code",
   "execution_count": 41,
   "id": "31f888cb",
   "metadata": {},
   "outputs": [],
   "source": [
    "exemple_01AG.add_antibiotic_by_id(gene_id = \"ARO:3007021\", antibiotic =\"carbapenems, cephalosporins\")\n",
    "exemple_01AG.add_antibiotic_by_id(gene_id = \"ARO:3005041\", antibiotic =\"linezolid\")\n",
    "exemple_01AG.add_antibiotic_by_id(gene_id = \"ARO:3003466\", antibiotic =\"aminoglycosides\")\n",
    "exemple_01AG.add_antibiotic_by_id(gene_id = \"ARO:3000207\", antibiotic =\"carbapenems, cephalosporins, fluoroquinolones, macrolides, tetracyclines, chloramphenicol, rifampin, novobiocin, linezolid, clindamycin, fusidic acid\")\n",
    "exemple_01AG.add_antibiotic_by_id(gene_id = \"ARO:3000702\", antibiotic =\"ciprofloxacin, chloramphenicol, tetracyclines, macrolides, β-lactams, rifampin, novobiocin\")\n",
    "exemple_01AG.add_antibiotic_by_id(gene_id = \"ARO:3000718\", antibiotic =\"Tetracyclines, quinolones, β-lactams, chloramphenicol, macrolides, rifampin, others\")\n",
    "exemple_01AG.add_antibiotic_by_id(gene_id = \"ARO:3000832\", antibiotic =\"Chloramphenicol, tetracycline, nalidixic acid, others\")\n",
    "exemple_01AG.add_antibiotic_by_id(gene_id = \"ARO:3000833\", antibiotic =\"Chloramphenicol, tetracycline, nalidixic acid, others\")\n",
    "exemple_01AG.add_antibiotic_by_id(gene_id = \"ARO:3000516\", antibiotic =\"macrolides\")\n",
    "exemple_01AG.add_antibiotic_by_id(gene_id = \"ARO:3000027\", antibiotic =\"macrolides\")"
   ]
  },
  {
   "cell_type": "code",
   "execution_count": 43,
   "id": "7f6beb83",
   "metadata": {},
   "outputs": [
    {
     "data": {
      "text/html": [
       "<div>\n",
       "<style scoped>\n",
       "    .dataframe tbody tr th:only-of-type {\n",
       "        vertical-align: middle;\n",
       "    }\n",
       "\n",
       "    .dataframe tbody tr th {\n",
       "        vertical-align: top;\n",
       "    }\n",
       "\n",
       "    .dataframe thead th {\n",
       "        text-align: right;\n",
       "    }\n",
       "</style>\n",
       "<table border=\"1\" class=\"dataframe\">\n",
       "  <thead>\n",
       "    <tr style=\"text-align: right;\">\n",
       "      <th></th>\n",
       "      <th>Gene Name</th>\n",
       "      <th>Matched Name</th>\n",
       "      <th>Gene ID</th>\n",
       "      <th>Description</th>\n",
       "      <th>Antibiotics</th>\n",
       "      <th>All Synonyms</th>\n",
       "    </tr>\n",
       "  </thead>\n",
       "  <tbody>\n",
       "    <tr>\n",
       "      <th>0</th>\n",
       "      <td>carA</td>\n",
       "      <td>carA</td>\n",
       "      <td>ARO:3002817</td>\n",
       "      <td>\"carA is an ABC-F subfamily protein involved i...</td>\n",
       "      <td>carbomycin</td>\n",
       "      <td>carA</td>\n",
       "    </tr>\n",
       "    <tr>\n",
       "      <th>1</th>\n",
       "      <td>acrA</td>\n",
       "      <td>acrA</td>\n",
       "      <td>ARO:3000207</td>\n",
       "      <td>\"Protein subunit of AcrA-AcrB-TolC multidrug e...</td>\n",
       "      <td>carbapenems, cephalosporins, fluoroquinolones,...</td>\n",
       "      <td>&lt;NA&gt;</td>\n",
       "    </tr>\n",
       "    <tr>\n",
       "      <th>2</th>\n",
       "      <td>acrR</td>\n",
       "      <td>acrR</td>\n",
       "      <td>ARO:3000702</td>\n",
       "      <td>\"AcrR is a repressor of the AcrAB-TolC multidr...</td>\n",
       "      <td>ciprofloxacin, chloramphenicol, tetracyclines,...</td>\n",
       "      <td>&lt;NA&gt;</td>\n",
       "    </tr>\n",
       "    <tr>\n",
       "      <th>3</th>\n",
       "      <td>PFM-4</td>\n",
       "      <td>BioF</td>\n",
       "      <td>ARO:3007021</td>\n",
       "      <td>\"PFM-4 (BioF) is a class B2 metallo-beta-lacta...</td>\n",
       "      <td>carbapenems, cephalosporins</td>\n",
       "      <td>BioF, PFM-4</td>\n",
       "    </tr>\n",
       "    <tr>\n",
       "      <th>4</th>\n",
       "      <td>msbA</td>\n",
       "      <td>msbA</td>\n",
       "      <td>ARO:3003950</td>\n",
       "      <td>\"MsbA is a multidrug resistance transporter ho...</td>\n",
       "      <td>metronidazole</td>\n",
       "      <td>msbA</td>\n",
       "    </tr>\n",
       "    <tr>\n",
       "      <th>5</th>\n",
       "      <td>mdtG</td>\n",
       "      <td>mdtG</td>\n",
       "      <td>ARO:3001329</td>\n",
       "      <td>\"The MdtG protein, also named YceE, appears to...</td>\n",
       "      <td>fosfomycin</td>\n",
       "      <td>mdtG, yceE</td>\n",
       "    </tr>\n",
       "    <tr>\n",
       "      <th>6</th>\n",
       "      <td>lmrC</td>\n",
       "      <td>ydaG</td>\n",
       "      <td>ARO:3002881</td>\n",
       "      <td>\"lmrC is an ABC-F subfamily protein that confe...</td>\n",
       "      <td>lincomycin, clindamycin, celesticetin</td>\n",
       "      <td>lmrC, ydaG</td>\n",
       "    </tr>\n",
       "    <tr>\n",
       "      <th>7</th>\n",
       "      <td>marR</td>\n",
       "      <td>marR</td>\n",
       "      <td>ARO:3000718</td>\n",
       "      <td>\"MarR is a repressor of the mar operon marRAB,...</td>\n",
       "      <td>Tetracyclines, quinolones, β-lactams, chloramp...</td>\n",
       "      <td>&lt;NA&gt;</td>\n",
       "    </tr>\n",
       "    <tr>\n",
       "      <th>8</th>\n",
       "      <td>YojI</td>\n",
       "      <td>YojI</td>\n",
       "      <td>ARO:3003952</td>\n",
       "      <td>\"YojI mediates resistance to the peptide antib...</td>\n",
       "      <td>microcin J25</td>\n",
       "      <td>YojI</td>\n",
       "    </tr>\n",
       "    <tr>\n",
       "      <th>9</th>\n",
       "      <td>evgA</td>\n",
       "      <td>evgA</td>\n",
       "      <td>ARO:3000832</td>\n",
       "      <td>\"EvgA, when phosphorylated, is a positive regu...</td>\n",
       "      <td>Chloramphenicol, tetracycline, nalidixic acid,...</td>\n",
       "      <td>evgA</td>\n",
       "    </tr>\n",
       "    <tr>\n",
       "      <th>10</th>\n",
       "      <td>evgS</td>\n",
       "      <td>evgS</td>\n",
       "      <td>ARO:3000833</td>\n",
       "      <td>\"EvgS is a sensor protein that phosphorylates ...</td>\n",
       "      <td>Chloramphenicol, tetracycline, nalidixic acid,...</td>\n",
       "      <td>evgS, rocS1</td>\n",
       "    </tr>\n",
       "    <tr>\n",
       "      <th>11</th>\n",
       "      <td>srmB</td>\n",
       "      <td>srmB</td>\n",
       "      <td>ARO:3002828</td>\n",
       "      <td>\"srmB is an ABC-F subfamily protein found in S...</td>\n",
       "      <td>spiramycin</td>\n",
       "      <td>srmB</td>\n",
       "    </tr>\n",
       "    <tr>\n",
       "      <th>12</th>\n",
       "      <td>emrR</td>\n",
       "      <td>mprA</td>\n",
       "      <td>ARO:3000516</td>\n",
       "      <td>\"EmrR is a negative regulator for the EmrAB-To...</td>\n",
       "      <td>macrolides</td>\n",
       "      <td>emrR, mprA</td>\n",
       "    </tr>\n",
       "    <tr>\n",
       "      <th>13</th>\n",
       "      <td>emrA</td>\n",
       "      <td>emrA</td>\n",
       "      <td>ARO:3000027</td>\n",
       "      <td>\"EmrA is a membrane fusion protein, providing ...</td>\n",
       "      <td>macrolides</td>\n",
       "      <td>emrA</td>\n",
       "    </tr>\n",
       "    <tr>\n",
       "      <th>14</th>\n",
       "      <td>mlaF</td>\n",
       "      <td>mlaF</td>\n",
       "      <td>ARO:3005041</td>\n",
       "      <td>\"mlaF from the mla system is a gene proposed t...</td>\n",
       "      <td>linezolid</td>\n",
       "      <td>mlaF</td>\n",
       "    </tr>\n",
       "    <tr>\n",
       "      <th>15</th>\n",
       "      <td>Staphylococcus aureus fusE with mutation confe...</td>\n",
       "      <td>rplF</td>\n",
       "      <td>ARO:3003737</td>\n",
       "      <td>\"The mutations to the rplF gene encoding ribop...</td>\n",
       "      <td>fusidic acid</td>\n",
       "      <td>50S ribosomal subunit protein L6, Saur_fusE_FA...</td>\n",
       "    </tr>\n",
       "    <tr>\n",
       "      <th>16</th>\n",
       "      <td>rpsJ</td>\n",
       "      <td>rpsJ</td>\n",
       "      <td>ARO:3003930</td>\n",
       "      <td>\"rpsJ is a tetracycline resistance protein ide...</td>\n",
       "      <td>tetracycline</td>\n",
       "      <td>nusE, rpsJ</td>\n",
       "    </tr>\n",
       "    <tr>\n",
       "      <th>17</th>\n",
       "      <td>eptB</td>\n",
       "      <td>eptB</td>\n",
       "      <td>ARO:3005047</td>\n",
       "      <td>\"eptB is a phosphoethanolamine transferase. It...</td>\n",
       "      <td>polymyxin B, colistin A, colistin B</td>\n",
       "      <td>eptB</td>\n",
       "    </tr>\n",
       "    <tr>\n",
       "      <th>18</th>\n",
       "      <td>APH(3')-Vb</td>\n",
       "      <td>rph</td>\n",
       "      <td>ARO:3002650</td>\n",
       "      <td>\"APH(3')-Vb is a chromosomal-encoded aminoglyc...</td>\n",
       "      <td>neomycin, ribostamycin, paromomycin</td>\n",
       "      <td>APH(3')-Vb, aphA-5b, rph</td>\n",
       "    </tr>\n",
       "    <tr>\n",
       "      <th>19</th>\n",
       "      <td>emrD</td>\n",
       "      <td>emrD</td>\n",
       "      <td>ARO:3000309</td>\n",
       "      <td>\"EmrD is a multidrug transporter from the Majo...</td>\n",
       "      <td>chloramphenicol</td>\n",
       "      <td>emrD</td>\n",
       "    </tr>\n",
       "    <tr>\n",
       "      <th>20</th>\n",
       "      <td>DnaA</td>\n",
       "      <td>DnaA</td>\n",
       "      <td>ARO:3000248</td>\n",
       "      <td>\"DnaA is a chromosomal replication initiation ...</td>\n",
       "      <td>rifampin, rifaximin, rifabutin, rifapentine</td>\n",
       "      <td>DnaA</td>\n",
       "    </tr>\n",
       "    <tr>\n",
       "      <th>21</th>\n",
       "      <td>antibiotic resistant gidB</td>\n",
       "      <td>rsmG</td>\n",
       "      <td>ARO:3003466</td>\n",
       "      <td>\"GidB is a m7G methyltransferase specific for ...</td>\n",
       "      <td>aminoglycosides</td>\n",
       "      <td>rsmG</td>\n",
       "    </tr>\n",
       "  </tbody>\n",
       "</table>\n",
       "</div>"
      ],
      "text/plain": [
       "                                            Gene Name Matched Name  \\\n",
       "0                                                carA         carA   \n",
       "1                                                acrA         acrA   \n",
       "2                                                acrR         acrR   \n",
       "3                                               PFM-4         BioF   \n",
       "4                                                msbA         msbA   \n",
       "5                                                mdtG         mdtG   \n",
       "6                                                lmrC         ydaG   \n",
       "7                                                marR         marR   \n",
       "8                                                YojI         YojI   \n",
       "9                                                evgA         evgA   \n",
       "10                                               evgS         evgS   \n",
       "11                                               srmB         srmB   \n",
       "12                                               emrR         mprA   \n",
       "13                                               emrA         emrA   \n",
       "14                                               mlaF         mlaF   \n",
       "15  Staphylococcus aureus fusE with mutation confe...         rplF   \n",
       "16                                               rpsJ         rpsJ   \n",
       "17                                               eptB         eptB   \n",
       "18                                         APH(3')-Vb          rph   \n",
       "19                                               emrD         emrD   \n",
       "20                                               DnaA         DnaA   \n",
       "21                          antibiotic resistant gidB         rsmG   \n",
       "\n",
       "        Gene ID                                        Description  \\\n",
       "0   ARO:3002817  \"carA is an ABC-F subfamily protein involved i...   \n",
       "1   ARO:3000207  \"Protein subunit of AcrA-AcrB-TolC multidrug e...   \n",
       "2   ARO:3000702  \"AcrR is a repressor of the AcrAB-TolC multidr...   \n",
       "3   ARO:3007021  \"PFM-4 (BioF) is a class B2 metallo-beta-lacta...   \n",
       "4   ARO:3003950  \"MsbA is a multidrug resistance transporter ho...   \n",
       "5   ARO:3001329  \"The MdtG protein, also named YceE, appears to...   \n",
       "6   ARO:3002881  \"lmrC is an ABC-F subfamily protein that confe...   \n",
       "7   ARO:3000718  \"MarR is a repressor of the mar operon marRAB,...   \n",
       "8   ARO:3003952  \"YojI mediates resistance to the peptide antib...   \n",
       "9   ARO:3000832  \"EvgA, when phosphorylated, is a positive regu...   \n",
       "10  ARO:3000833  \"EvgS is a sensor protein that phosphorylates ...   \n",
       "11  ARO:3002828  \"srmB is an ABC-F subfamily protein found in S...   \n",
       "12  ARO:3000516  \"EmrR is a negative regulator for the EmrAB-To...   \n",
       "13  ARO:3000027  \"EmrA is a membrane fusion protein, providing ...   \n",
       "14  ARO:3005041  \"mlaF from the mla system is a gene proposed t...   \n",
       "15  ARO:3003737  \"The mutations to the rplF gene encoding ribop...   \n",
       "16  ARO:3003930  \"rpsJ is a tetracycline resistance protein ide...   \n",
       "17  ARO:3005047  \"eptB is a phosphoethanolamine transferase. It...   \n",
       "18  ARO:3002650  \"APH(3')-Vb is a chromosomal-encoded aminoglyc...   \n",
       "19  ARO:3000309  \"EmrD is a multidrug transporter from the Majo...   \n",
       "20  ARO:3000248  \"DnaA is a chromosomal replication initiation ...   \n",
       "21  ARO:3003466  \"GidB is a m7G methyltransferase specific for ...   \n",
       "\n",
       "                                          Antibiotics  \\\n",
       "0                                          carbomycin   \n",
       "1   carbapenems, cephalosporins, fluoroquinolones,...   \n",
       "2   ciprofloxacin, chloramphenicol, tetracyclines,...   \n",
       "3                         carbapenems, cephalosporins   \n",
       "4                                       metronidazole   \n",
       "5                                          fosfomycin   \n",
       "6               lincomycin, clindamycin, celesticetin   \n",
       "7   Tetracyclines, quinolones, β-lactams, chloramp...   \n",
       "8                                        microcin J25   \n",
       "9   Chloramphenicol, tetracycline, nalidixic acid,...   \n",
       "10  Chloramphenicol, tetracycline, nalidixic acid,...   \n",
       "11                                         spiramycin   \n",
       "12                                         macrolides   \n",
       "13                                         macrolides   \n",
       "14                                          linezolid   \n",
       "15                                       fusidic acid   \n",
       "16                                       tetracycline   \n",
       "17                polymyxin B, colistin A, colistin B   \n",
       "18                neomycin, ribostamycin, paromomycin   \n",
       "19                                    chloramphenicol   \n",
       "20        rifampin, rifaximin, rifabutin, rifapentine   \n",
       "21                                    aminoglycosides   \n",
       "\n",
       "                                         All Synonyms  \n",
       "0                                                carA  \n",
       "1                                                <NA>  \n",
       "2                                                <NA>  \n",
       "3                                         BioF, PFM-4  \n",
       "4                                                msbA  \n",
       "5                                          mdtG, yceE  \n",
       "6                                          lmrC, ydaG  \n",
       "7                                                <NA>  \n",
       "8                                                YojI  \n",
       "9                                                evgA  \n",
       "10                                        evgS, rocS1  \n",
       "11                                               srmB  \n",
       "12                                         emrR, mprA  \n",
       "13                                               emrA  \n",
       "14                                               mlaF  \n",
       "15  50S ribosomal subunit protein L6, Saur_fusE_FA...  \n",
       "16                                         nusE, rpsJ  \n",
       "17                                               eptB  \n",
       "18                           APH(3')-Vb, aphA-5b, rph  \n",
       "19                                               emrD  \n",
       "20                                               DnaA  \n",
       "21                                               rsmG  "
      ]
     },
     "execution_count": 43,
     "metadata": {},
     "output_type": "execute_result"
    }
   ],
   "source": [
    "df"
   ]
  },
  {
   "cell_type": "code",
   "execution_count": 16,
   "id": "d2b10cfd",
   "metadata": {},
   "outputs": [
    {
     "name": "stdout",
     "output_type": "stream",
     "text": [
      "HTML file saved: ARGs_res.html\n"
     ]
    }
   ],
   "source": [
    "from ResPathExplorer.save_df_as_html import save_df_as_html\n",
    "save_df_as_html(df, filename = \"ARGs_res.html\")"
   ]
  },
  {
   "cell_type": "code",
   "execution_count": 17,
   "id": "da011e0d",
   "metadata": {},
   "outputs": [
    {
     "data": {
      "image/png": "[encoded data removed]",
      "text/plain": [
       "<Figure size 1000x800 with 1 Axes>"
      ]
     },
     "metadata": {},
     "output_type": "display_data"
    }
   ],
   "source": [
    "exemple_01AG.plot_antibiotic_frequencies(df)"
   ]
  },
  {
   "cell_type": "markdown",
   "id": "a0bc32aa",
   "metadata": {},
   "source": [
    "#### VFDBAnalysis"
   ]
  },
  {
   "cell_type": "code",
   "execution_count": 18,
   "id": "aa710c6d",
   "metadata": {},
   "outputs": [],
   "source": [
    "from ResPathExplorer.VFDBAnalysis import VFDBAnalysis\n",
    "exemple_01VF = VFDBAnalysis(db_dir=\"vfdb_data\")"
   ]
  },
  {
   "cell_type": "code",
   "execution_count": 19,
   "id": "62181158",
   "metadata": {},
   "outputs": [
    {
     "name": "stdout",
     "output_type": "stream",
     "text": [
      "FASTA file already exists.\n",
      "XLS file already exists.\n"
     ]
    },
    {
     "data": {
      "text/html": [
       "<div>\n",
       "<style scoped>\n",
       "    .dataframe tbody tr th:only-of-type {\n",
       "        vertical-align: middle;\n",
       "    }\n",
       "\n",
       "    .dataframe tbody tr th {\n",
       "        vertical-align: top;\n",
       "    }\n",
       "\n",
       "    .dataframe thead th {\n",
       "        text-align: right;\n",
       "    }\n",
       "</style>\n",
       "<table border=\"1\" class=\"dataframe\">\n",
       "  <thead>\n",
       "    <tr style=\"text-align: right;\">\n",
       "      <th></th>\n",
       "      <th>Gene_Name</th>\n",
       "      <th>Description</th>\n",
       "      <th>Functional category</th>\n",
       "      <th>Bacteria</th>\n",
       "      <th>VFID</th>\n",
       "      <th>VF_Name</th>\n",
       "      <th>Function</th>\n",
       "    </tr>\n",
       "  </thead>\n",
       "  <tbody>\n",
       "    <tr>\n",
       "      <th>0</th>\n",
       "      <td>plc1</td>\n",
       "      <td>phospholipase C</td>\n",
       "      <td>Exotoxin</td>\n",
       "      <td>Acinetobacter baumannii ACICU</td>\n",
       "      <td>VF0470</td>\n",
       "      <td>Phospholipase C</td>\n",
       "      <td>Contribute to the pathogenesis by aiding in th...</td>\n",
       "    </tr>\n",
       "    <tr>\n",
       "      <th>1</th>\n",
       "      <td>plc2</td>\n",
       "      <td>phospholipase C</td>\n",
       "      <td>Exotoxin</td>\n",
       "      <td>Acinetobacter baumannii ACICU</td>\n",
       "      <td>VF0470</td>\n",
       "      <td>Phospholipase C</td>\n",
       "      <td>Contribute to the pathogenesis by aiding in th...</td>\n",
       "    </tr>\n",
       "    <tr>\n",
       "      <th>2</th>\n",
       "      <td>plcD</td>\n",
       "      <td>phosphatidylserine/phosphatidylglycerophosphat...</td>\n",
       "      <td>Exotoxin</td>\n",
       "      <td>Acinetobacter baumannii ACICU</td>\n",
       "      <td>VF0469</td>\n",
       "      <td>Phospholipase D</td>\n",
       "      <td>Contribute to the pathogenesis by aiding in th...</td>\n",
       "    </tr>\n",
       "    <tr>\n",
       "      <th>3</th>\n",
       "      <td>basJ</td>\n",
       "      <td>acinetobactin biosynthesis protein BasJ</td>\n",
       "      <td>Nutritional/Metabolic factor</td>\n",
       "      <td>Acinetobacter baumannii ACICU</td>\n",
       "      <td>VF0467</td>\n",
       "      <td>Acinetobactin</td>\n",
       "      <td>High-affinity catechol-hydroxamate siderophore...</td>\n",
       "    </tr>\n",
       "    <tr>\n",
       "      <th>4</th>\n",
       "      <td>basI</td>\n",
       "      <td>phosphopantetheinyl transferase component of a...</td>\n",
       "      <td>Nutritional/Metabolic factor</td>\n",
       "      <td>Acinetobacter baumannii ACICU</td>\n",
       "      <td>VF0467</td>\n",
       "      <td>Acinetobactin</td>\n",
       "      <td>High-affinity catechol-hydroxamate siderophore...</td>\n",
       "    </tr>\n",
       "  </tbody>\n",
       "</table>\n",
       "</div>"
      ],
      "text/plain": [
       "  Gene_Name                                        Description  \\\n",
       "0      plc1                                    phospholipase C   \n",
       "1      plc2                                    phospholipase C   \n",
       "2      plcD  phosphatidylserine/phosphatidylglycerophosphat...   \n",
       "3      basJ            acinetobactin biosynthesis protein BasJ   \n",
       "4      basI  phosphopantetheinyl transferase component of a...   \n",
       "\n",
       "            Functional category                       Bacteria    VFID  \\\n",
       "0                      Exotoxin  Acinetobacter baumannii ACICU  VF0470   \n",
       "1                      Exotoxin  Acinetobacter baumannii ACICU  VF0470   \n",
       "2                      Exotoxin  Acinetobacter baumannii ACICU  VF0469   \n",
       "3  Nutritional/Metabolic factor  Acinetobacter baumannii ACICU  VF0467   \n",
       "4  Nutritional/Metabolic factor  Acinetobacter baumannii ACICU  VF0467   \n",
       "\n",
       "           VF_Name                                           Function  \n",
       "0  Phospholipase C  Contribute to the pathogenesis by aiding in th...  \n",
       "1  Phospholipase C  Contribute to the pathogenesis by aiding in th...  \n",
       "2  Phospholipase D  Contribute to the pathogenesis by aiding in th...  \n",
       "3    Acinetobactin  High-affinity catechol-hydroxamate siderophore...  \n",
       "4    Acinetobactin  High-affinity catechol-hydroxamate siderophore...  "
      ]
     },
     "execution_count": 19,
     "metadata": {},
     "output_type": "execute_result"
    }
   ],
   "source": [
    "df_genes = exemple_01VF.load_and_process()\n",
    "df_genes.head()"
   ]
  },
  {
   "cell_type": "code",
   "execution_count": 20,
   "id": "f055060e",
   "metadata": {},
   "outputs": [
    {
     "data": {
      "text/html": [
       "<div>\n",
       "<style scoped>\n",
       "    .dataframe tbody tr th:only-of-type {\n",
       "        vertical-align: middle;\n",
       "    }\n",
       "\n",
       "    .dataframe tbody tr th {\n",
       "        vertical-align: top;\n",
       "    }\n",
       "\n",
       "    .dataframe thead th {\n",
       "        text-align: right;\n",
       "    }\n",
       "</style>\n",
       "<table border=\"1\" class=\"dataframe\">\n",
       "  <thead>\n",
       "    <tr style=\"text-align: right;\">\n",
       "      <th></th>\n",
       "      <th>Gene_Name</th>\n",
       "      <th>Description</th>\n",
       "      <th>Functional category</th>\n",
       "      <th>Bacteria</th>\n",
       "      <th>VFID</th>\n",
       "      <th>VF_Name</th>\n",
       "      <th>Function</th>\n",
       "    </tr>\n",
       "  </thead>\n",
       "  <tbody>\n",
       "    <tr>\n",
       "      <th>0</th>\n",
       "      <td>entC</td>\n",
       "      <td>isochorismate synthase 1</td>\n",
       "      <td>Nutritional/Metabolic factor</td>\n",
       "      <td>Escherichia coli CFT073</td>\n",
       "      <td>VF0228</td>\n",
       "      <td>Enterobactin</td>\n",
       "      <td>Iron uptake: the siderophore enterobactin impo...</td>\n",
       "    </tr>\n",
       "  </tbody>\n",
       "</table>\n",
       "</div>"
      ],
      "text/plain": [
       "  Gene_Name               Description           Functional category  \\\n",
       "0      entC  isochorismate synthase 1  Nutritional/Metabolic factor   \n",
       "\n",
       "                  Bacteria    VFID       VF_Name  \\\n",
       "0  Escherichia coli CFT073  VF0228  Enterobactin   \n",
       "\n",
       "                                            Function  \n",
       "0  Iron uptake: the siderophore enterobactin impo...  "
      ]
     },
     "execution_count": 20,
     "metadata": {},
     "output_type": "execute_result"
    }
   ],
   "source": [
    "with open('upregulated_GNames_ex1.txt', 'r') as file:\n",
    "    genes = [line.strip() for line in file if line.strip()]\n",
    "    \n",
    "bacteria_name = \"Escherichia coli\"\n",
    "\n",
    "df_filtered = exemple_01VF.search_virulence_genes(genes, bacteria_name)\n",
    "df_filtered"
   ]
  },
  {
   "cell_type": "code",
   "execution_count": 21,
   "id": "06428e04",
   "metadata": {},
   "outputs": [
    {
     "name": "stdout",
     "output_type": "stream",
     "text": [
      "HTML file saved: VFs_genes.html\n"
     ]
    }
   ],
   "source": [
    "from ResPathExplorer.save_df_as_html import save_df_as_html\n",
    "save_df_as_html(df_filtered, filename = \"VFs_genes.html\")"
   ]
  },
  {
   "cell_type": "code",
   "execution_count": 22,
   "id": "0ab39bd1",
   "metadata": {},
   "outputs": [],
   "source": [
    "# exemple_01VF.plot_virulence_factors_percentage(df_filtered,\n",
    "#                                           bacteria_name = bacteria_name,\n",
    "#                                           show_all_categories = False)"
   ]
  },
  {
   "cell_type": "markdown",
   "id": "a37950e9",
   "metadata": {},
   "source": [
    "#### URL pathways"
   ]
  },
  {
   "cell_type": "code",
   "execution_count": 46,
   "id": "a705e3a0",
   "metadata": {},
   "outputs": [
    {
     "name": "stdout",
     "output_type": "stream",
     "text": [
      "Genes names - general: 589\n",
      "ARGs: 22\n",
      "VFs genes: 1\n"
     ]
    }
   ],
   "source": [
    "ARGs = [x for x in exemple_01AG.ARGdf[\"Matched Name\"]]\n",
    "VFGs = [x for x in df_filtered[\"Gene_Name\"]]\n",
    "print(f\"Genes names - general: {len(genes)}\")\n",
    "print(f\"ARGs: {len(ARGs)}\")\n",
    "print(f\"VFs genes: {len(VFGs)}\")"
   ]
  },
  {
   "cell_type": "code",
   "execution_count": 28,
   "id": "7363c436",
   "metadata": {},
   "outputs": [],
   "source": [
    "import pandas as pd\n",
    "df_up = pd.read_excel(\"genenames.xlsx\")"
   ]
  },
  {
   "cell_type": "code",
   "execution_count": 132,
   "id": "819c9a0e",
   "metadata": {},
   "outputs": [],
   "source": [
    "# Put color related to genes\n",
    "df_up['Genename'] = df_up['Genename'].astype(str).str.strip()\n",
    "df_filtered['Gene_Name'] = df_filtered['Gene_Name'].astype(str).str.strip()\n",
    "df['Matched Name'] = df['Matched Name'].astype(str).str.strip().apply(lambda x: x[:1].lower() + x[1:] if x else x)\n",
    "\n",
    "\n",
    "vf_genes = set(df_filtered['Gene_Name'])\n",
    "arg_genes = set(df['Matched Name'])\n",
    "\n",
    "\n",
    "def get_color(gene):\n",
    "    if gene in vf_genes:\n",
    "        return \"skyblue,purple\"\n",
    "    elif gene in arg_genes:\n",
    "        return \"indianred,blue\"\n",
    "    else:\n",
    "        return \"yellow,deeppink\"\n",
    "\n",
    "df_up['Color'] = df_up['Genename'].apply(get_color)"
   ]
  },
  {
   "cell_type": "code",
   "execution_count": 133,
   "id": "03198bdb",
   "metadata": {},
   "outputs": [
    {
     "data": {
      "text/html": [
       "<div>\n",
       "<style scoped>\n",
       "    .dataframe tbody tr th:only-of-type {\n",
       "        vertical-align: middle;\n",
       "    }\n",
       "\n",
       "    .dataframe tbody tr th {\n",
       "        vertical-align: top;\n",
       "    }\n",
       "\n",
       "    .dataframe thead th {\n",
       "        text-align: right;\n",
       "    }\n",
       "</style>\n",
       "<table border=\"1\" class=\"dataframe\">\n",
       "  <thead>\n",
       "    <tr style=\"text-align: right;\">\n",
       "      <th></th>\n",
       "      <th>Unnamed: 0</th>\n",
       "      <th>Gene_id</th>\n",
       "      <th>Genename</th>\n",
       "      <th>significant(IPMvsH2O)</th>\n",
       "      <th>Color</th>\n",
       "      <th>KEGG_ID</th>\n",
       "    </tr>\n",
       "  </thead>\n",
       "  <tbody>\n",
       "    <tr>\n",
       "      <th>0</th>\n",
       "      <td>21</td>\n",
       "      <td>b0023</td>\n",
       "      <td>rpsT</td>\n",
       "      <td>UP</td>\n",
       "      <td>yellow,deeppink</td>\n",
       "      <td>eco:b0023</td>\n",
       "    </tr>\n",
       "    <tr>\n",
       "      <th>1</th>\n",
       "      <td>23</td>\n",
       "      <td>b0025</td>\n",
       "      <td>ribF</td>\n",
       "      <td>UP</td>\n",
       "      <td>yellow,deeppink</td>\n",
       "      <td>eco:b0025</td>\n",
       "    </tr>\n",
       "    <tr>\n",
       "      <th>2</th>\n",
       "      <td>30</td>\n",
       "      <td>b0032</td>\n",
       "      <td>carA</td>\n",
       "      <td>UP</td>\n",
       "      <td>indianred,blue</td>\n",
       "      <td>eco:b0032</td>\n",
       "    </tr>\n",
       "    <tr>\n",
       "      <th>3</th>\n",
       "      <td>36</td>\n",
       "      <td>b0038</td>\n",
       "      <td>caiB</td>\n",
       "      <td>UP</td>\n",
       "      <td>yellow,deeppink</td>\n",
       "      <td>eco:b0038</td>\n",
       "    </tr>\n",
       "    <tr>\n",
       "      <th>4</th>\n",
       "      <td>37</td>\n",
       "      <td>b0039</td>\n",
       "      <td>caiA</td>\n",
       "      <td>UP</td>\n",
       "      <td>yellow,deeppink</td>\n",
       "      <td>eco:b0039</td>\n",
       "    </tr>\n",
       "  </tbody>\n",
       "</table>\n",
       "</div>"
      ],
      "text/plain": [
       "   Unnamed: 0 Gene_id Genename significant(IPMvsH2O)            Color  \\\n",
       "0          21   b0023     rpsT                    UP  yellow,deeppink   \n",
       "1          23   b0025     ribF                    UP  yellow,deeppink   \n",
       "2          30   b0032     carA                    UP   indianred,blue   \n",
       "3          36   b0038     caiB                    UP  yellow,deeppink   \n",
       "4          37   b0039     caiA                    UP  yellow,deeppink   \n",
       "\n",
       "     KEGG_ID  \n",
       "0  eco:b0023  \n",
       "1  eco:b0025  \n",
       "2  eco:b0032  \n",
       "3  eco:b0038  \n",
       "4  eco:b0039  "
      ]
     },
     "execution_count": 133,
     "metadata": {},
     "output_type": "execute_result"
    }
   ],
   "source": [
    "df_up.head()"
   ]
  },
  {
   "cell_type": "code",
   "execution_count": 134,
   "id": "52436208",
   "metadata": {},
   "outputs": [
    {
     "data": {
      "text/plain": [
       "22"
      ]
     },
     "execution_count": 134,
     "metadata": {},
     "output_type": "execute_result"
    }
   ],
   "source": [
    "len(df_up[df_up[\"Color\"] == \"indianred,blue\"])"
   ]
  },
  {
   "cell_type": "code",
   "execution_count": 135,
   "id": "83424267",
   "metadata": {},
   "outputs": [
    {
     "data": {
      "text/plain": [
       "1"
      ]
     },
     "execution_count": 135,
     "metadata": {},
     "output_type": "execute_result"
    }
   ],
   "source": [
    "len(df_up[df_up[\"Color\"] == \"skyblue,purple\"])"
   ]
  },
  {
   "cell_type": "code",
   "execution_count": 149,
   "id": "959244d7",
   "metadata": {},
   "outputs": [],
   "source": [
    "gene_color_dict = df_up.set_index('Gene_id')['Color'].to_dict()\n",
    "# gene_color_dict"
   ]
  },
  {
   "cell_type": "code",
   "execution_count": 137,
   "id": "6c94021e",
   "metadata": {},
   "outputs": [
    {
     "data": {
      "text/plain": [
       "['eco00230', 'eco00550', 'eco01240', 'eco03010', 'eco04122']"
      ]
     },
     "execution_count": 137,
     "metadata": {},
     "output_type": "execute_result"
    }
   ],
   "source": [
    "term_list = []\n",
    "for t in exemple_01.enrichment_results[\"Term\"]:\n",
    "    term_list.append(t)\n",
    "term_list"
   ]
  },
  {
   "cell_type": "code",
   "execution_count": 138,
   "id": "a27c96b8",
   "metadata": {},
   "outputs": [
    {
     "name": "stdout",
     "output_type": "stream",
     "text": [
      "URL eco00230: http://www.kegg.jp/kegg-bin/show_pathway?eco00230/default%3dpink//b0125%09yellow,deeppink//b0523%09yellow,deeppink//b0104%09yellow,deeppink//b0522%09yellow,deeppink//b2518%09yellow,deeppink//b2954%09yellow,deeppink//b4394%09yellow,deeppink//b1207%09yellow,deeppink//b2234%09yellow,deeppink//b2500%09yellow,deeppink//b1849%09yellow,deeppink//b0474%09yellow,deeppink//b3648%09yellow,deeppink//b3806%09yellow,deeppink//b0238%09yellow,deeppink//b2476%09yellow,deeppink//b3779%09yellow,deeppink//b3397%09yellow,deeppink//b1131%09yellow,deeppink//b0477%09yellow,deeppink//b4006%09yellow,deeppink//b3399%09yellow,deeppink//b0469%09yellow,deeppink//b2312%09yellow,deeppink//b2499%09yellow,deeppink//b3650%09yellow,deeppink/\n",
      "URL eco00550: http://www.kegg.jp/kegg-bin/show_pathway?eco00550/default%3dpink//b2519%09yellow,deeppink//b3972%09yellow,deeppink//b0174%09yellow,deeppink//b2010%09yellow,deeppink//b3182%09yellow,deeppink//b0088%09yellow,deeppink//b0635%09yellow,deeppink//b3396%09yellow,deeppink//b0841%09yellow,deeppink//b0632%09yellow,deeppink/\n",
      "URL eco01240: http://www.kegg.jp/kegg-bin/show_pathway?eco01240/default%3dpink//b3812%09yellow,deeppink//b0025%09yellow,deeppink//b0775%09yellow,deeppink//b0415%09yellow,deeppink//b1095%09yellow,deeppink//b3833%09yellow,deeppink//b2518%09yellow,deeppink//b3639%09yellow,deeppink//b0474%09yellow,deeppink//b0383%09yellow,deeppink//b0423%09yellow,deeppink//b2153%09yellow,deeppink//b0945%09yellow,deeppink//b0776%09indianred,blue//b0774%09yellow,deeppink//b0417%09yellow,deeppink//b0628%09yellow,deeppink//b0931%09yellow,deeppink//b2436%09yellow,deeppink//b3974%09yellow,deeppink//b1281%09yellow,deeppink//b1210%09yellow,deeppink//b0369%09yellow,deeppink//b0529%09yellow,deeppink//b0844%09yellow,deeppink//b1062%09yellow,deeppink//b0781%09yellow,deeppink//b2551%09yellow,deeppink//b0032%09indianred,blue//b1131%09yellow,deeppink//b2530%09yellow,deeppink//b1812%09yellow,deeppink//b1636%09yellow,deeppink//b2765%09yellow,deeppink//b0630%09yellow,deeppink//b2042%09yellow,deeppink//b2574%09yellow,deeppink/\n",
      "URL eco03010: http://www.kegg.jp/kegg-bin/show_pathway?eco03010/default%3dpink//b3303%09yellow,deeppink//b3637%09yellow,deeppink//b3308%09yellow,deeppink//b3304%09yellow,deeppink//b4200%09yellow,deeppink//b3307%09yellow,deeppink//b3986%09yellow,deeppink//b3306%09yellow,deeppink//b3065%09yellow,deeppink//b3319%09yellow,deeppink//b3318%09yellow,deeppink//b3983%09yellow,deeppink//b2185%09yellow,deeppink//b3230%09yellow,deeppink//b3310%09yellow,deeppink//b3636%09yellow,deeppink//b3186%09yellow,deeppink//b3298%09yellow,deeppink//b3985%09yellow,deeppink//b0296%09yellow,deeppink//b3313%09yellow,deeppink//b3231%09yellow,deeppink//b0023%09yellow,deeppink//b3165%09yellow,deeppink//b3185%09yellow,deeppink//b3320%09yellow,deeppink//b3984%09yellow,deeppink//b3297%09yellow,deeppink//b3321%09indianred,blue//b3305%09indianred,blue//b3317%09yellow,deeppink//b3314%09yellow,deeppink//b3315%09yellow,deeppink//b3703%09yellow,deeppink/\n",
      "URL eco04122: http://www.kegg.jp/kegg-bin/show_pathway?eco04122/default%3dpink//b0423%09yellow,deeppink//b2530%09yellow,deeppink//b3344%09yellow,deeppink//b1133%09yellow,deeppink//b3345%09yellow,deeppink//b3470%09yellow,deeppink//b0781%09yellow,deeppink//b0969%09yellow,deeppink/\n"
     ]
    }
   ],
   "source": [
    "from ResPathExplorer.URL_pathway import get_url_pathway\n",
    "gene_set = exemple_01.gene_set\n",
    "\n",
    "for t in term_list:\n",
    "    genes_in_pathway = next(genes for (path_id, _), genes in gene_set.items() if path_id == t)\n",
    "\n",
    "    filtered_gene_color_dict = {\n",
    "        gene: gene_color_dict[gene]\n",
    "        for gene in genes_in_pathway\n",
    "        if gene in gene_color_dict\n",
    "    }\n",
    "    url = get_url_pathway(t, filtered_gene_color_dict)\n",
    "    print(f\"URL {t}:\", url)"
   ]
  },
  {
   "cell_type": "code",
   "execution_count": null,
   "id": "ad3dff13",
   "metadata": {},
   "outputs": [],
   "source": []
  },
  {
   "cell_type": "markdown",
   "id": "acd6b36f",
   "metadata": {},
   "source": [
    "### Pathway view\n",
    "\n",
    "With this library you can also look for pathways not related to enrichemnt, just to se where the genes are applied (for exemple, i will look for the VF identified. "
   ]
  },
  {
   "cell_type": "code",
   "execution_count": 140,
   "id": "e1e497ce",
   "metadata": {},
   "outputs": [
    {
     "data": {
      "text/plain": [
       "['b0593']"
      ]
     },
     "execution_count": 140,
     "metadata": {},
     "output_type": "execute_result"
    }
   ],
   "source": [
    "gene_id = [g for g in df_up[df_up[\"Color\"] == \"skyblue,purple\"][\"Gene_id\"]]\n",
    "gene_id"
   ]
  },
  {
   "cell_type": "code",
   "execution_count": 141,
   "id": "e544028f",
   "metadata": {},
   "outputs": [
    {
     "data": {
      "text/plain": [
       "['eco01100', 'eco01110', 'eco00130', 'eco01053']"
      ]
     },
     "execution_count": 141,
     "metadata": {},
     "output_type": "execute_result"
    }
   ],
   "source": [
    "res = []\n",
    "for g in gene_id:\n",
    "    resg = exemple_01.search_gene_path(g, search_in_gene_set = True)\n",
    "    for s in resg:\n",
    "        res.append(s)\n",
    "res"
   ]
  },
  {
   "cell_type": "code",
   "execution_count": 142,
   "id": "cd01e358",
   "metadata": {},
   "outputs": [
    {
     "name": "stdout",
     "output_type": "stream",
     "text": [
      "eco01100: Metabolic pathways - Escherichia coli K-12 MG1655\n",
      "eco01110: Biosynthesis of secondary metabolites - Escherichia coli K-12 MG1655\n",
      "eco00130: Ubiquinone and other terpenoid-quinone biosynthesis - Escherichia coli K-12 MG1655\n",
      "eco01053: Biosynthesis of siderophore group nonribosomal peptides - Escherichia coli K-12 MG1655\n"
     ]
    }
   ],
   "source": [
    "for p in res:\n",
    "    print(f\"{p}: {exemple_01.get_pathway_name(p)}\")"
   ]
  },
  {
   "cell_type": "code",
   "execution_count": 143,
   "id": "40261fc7",
   "metadata": {},
   "outputs": [
    {
     "name": "stdout",
     "output_type": "stream",
     "text": [
      "URL eco00130: http://www.kegg.jp/kegg-bin/show_pathway?eco00130/default%3dpink//b0593%09skyblue,purple//b3833%09yellow,deeppink/\n",
      "URL eco01053: http://www.kegg.jp/kegg-bin/show_pathway?eco01053/default%3dpink//b0593%09skyblue,purple/\n"
     ]
    }
   ],
   "source": [
    "gene_set = exemple_01.gene_set\n",
    "paths = [\"eco00130\", \"eco01053\"]\n",
    "\n",
    "for t in paths:\n",
    "    genes_in_pathway = next(genes for (path_id, _), genes in gene_set.items() if path_id == t)\n",
    "\n",
    "    filtered_gene_color_dict = {\n",
    "        gene: gene_color_dict[gene]\n",
    "        for gene in genes_in_pathway\n",
    "        if gene in gene_color_dict\n",
    "    }\n",
    "    url = get_url_pathway(t, filtered_gene_color_dict)\n",
    "    print(f\"URL {t}:\", url)"
   ]
  }
 ],
 "metadata": {
  "kernelspec": {
   "display_name": "Python 3 (ipykernel)",
   "language": "python",
   "name": "python3"
  },
  "language_info": {
   "codemirror_mode": {
    "name": "ipython",
    "version": 3
   },
   "file_extension": ".py",
   "mimetype": "text/x-python",
   "name": "python",
   "nbconvert_exporter": "python",
   "pygments_lexer": "ipython3",
   "version": "3.11.5"
  }
 },
 "nbformat": 4,
 "nbformat_minor": 5
}
